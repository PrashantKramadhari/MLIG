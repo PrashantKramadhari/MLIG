{
 "cells": [
  {
   "cell_type": "markdown",
   "metadata": {
    "id": "iuZhAf76sNoh"
   },
   "source": [
    "[<img src=\"https://www.scenerepresentations.org/assets/logo/logo+text-negative@2x.png\" alt=\"TODO: make logo work better on Colab background\" width=\"212\"/>](https://www.scenerepresentations.org)\n",
    "\n",
    "[`MIT 6.S980, Machine Learning for Inverse Graphics`](https://www.scenerepresentations.org/courses/inverse-graphics/)\n",
    "# Homework 3: Prior-based Reconstruction\n",
    "\n",
    "### Administrative details\n",
    "This course publishes its assignments as Jupyter notebooks, hosted on Google Colab. This way, you don't need any local development setup. If you're more comfortable with your local dev environment, feel free to download this notebook instead (\"File -> Download -> Download .ipynb\") and edit it in your local environment. Else, make sure you're logged into your Google Account and click \"File -> Save a copy in Drive\". You can then edit your copy of the notebook to complete your assignment. You'll find instructions for submitting your work at the [end of this notebook](#scrollTo=Submission_Instructions).\n",
    "\n",
    "\n",
    "### About this homework\n",
    "\n",
    "In our last unit, we saw how we can use neural networks as \"just another parameterization of continuous functions\". In other words, there was nothing here that one would conventionally call \"Artificial Intelligence\" or even \"Machine Learning\" - we simply fit the neural network to some function values.\n",
    "\n",
    "Now, we will move on to something that would more commonly be referred to as \"Machine Learning\" and \"Artificial Intelligence\": We will use neural networks to make predictions for inputs *unseen* at training time.\n",
    "\n",
    "Technically, we also already did that in our previous assignment: Whenever you queried your occupancy network at a coordinate that wasn't in the training set, you \"generalized\" to an unseen input.\n",
    "\n",
    "However, since these inputs are low-dimensional, we would be compelled to call this behavior \"interpolation\", and are not overly surprised that it works, as we can easily build algorithms that will interpolate some nearest neighbors in the training set and get a similar performance.\n",
    "\n",
    "The key difference now will be that the inputs will be high-dimensional (think >10,000 dimensions). In such high-dimensional spaces, it is *not* straight-forward to hand-craft an algorithm that will assign a reasonable value to an input unobserved at training time.\n",
    "\n",
    "This, then, is what deep learning is, to date, *uniquely* good at, and is the property that has enabled them to revolutionize computer vision and NLP.\n",
    "\n",
    "### Contributors\n",
    "- _Prof. Vincent Sitzmann, Scene Representation Group._\n",
    "- _Prafull Sharma_"
   ]
  },
  {
   "cell_type": "markdown",
   "metadata": {
    "id": "f0sz1OZsoT1R"
   },
   "source": [
    "# Setup"
   ]
  },
  {
   "cell_type": "code",
   "execution_count": 1,
   "metadata": {
    "colab": {
     "base_uri": "https://localhost:8080/"
    },
    "id": "DFlhNOvjoWqA",
    "outputId": "01cd8b9e-10c1-4e12-e399-9bc83fc809de"
   },
   "outputs": [
    {
     "name": "stdout",
     "output_type": "stream",
     "text": [
      "Installed Torch version: 1.12.0\n",
      "cuda:0\n"
     ]
    }
   ],
   "source": [
    "#!pip install einops\n",
    "\n",
    "import torch, torchvision\n",
    "from torchvision import datasets, transforms\n",
    "from torch import nn, optim\n",
    "from torch.nn import functional as F\n",
    "from torch.utils.data import IterableDataset\n",
    "import numpy as np\n",
    "import matplotlib.pyplot as plt\n",
    "from typing import Callable, List, Optional, Tuple, Generator, Dict\n",
    "import os\n",
    "import h5py\n",
    "import random\n",
    "\n",
    "import imageio\n",
    "import os\n",
    "import skimage\n",
    "import h5py\n",
    "import io\n",
    "\n",
    "import math\n",
    "from einops import rearrange, repeat\n",
    "\n",
    "print(f\"Installed Torch version: {torch.__version__}\")\n",
    "\n",
    "if torch.cuda.is_available():\n",
    "    device = torch.device(\"cuda:0\")\n",
    "    torch.cuda.set_device(device)\n",
    "else:\n",
    "    device = torch.device(\"cpu\")\n",
    "\n",
    "print(device)\n",
    "\n",
    "\n",
    "def init_weights(m):\n",
    "    if isinstance(m, nn.Linear) or isinstance(m, nn.Conv2d) or isinstance(m, nn.Conv2d):\n",
    "        torch.nn.init.kaiming_normal_(m.weight)\n"
   ]
  },
  {
   "cell_type": "markdown",
   "metadata": {
    "id": "tUnn1RGnr9KR"
   },
   "source": [
    "### Testing your code\n",
    "\n",
    "For your convenience, we have written a little test function, \"check_function\", which will serve as a unit-test for _every function that you will be graded on_. This will allow you a simple, shallow check whether your function does something reasonable.\n",
    "\n",
    "Note that it is **not guaranteed** that you will get full score if all of your functions pass this test - in our grading script, we test your functions much more thoroughly. It is your responsibility to make sure your implementation is correct."
   ]
  },
  {
   "cell_type": "code",
   "execution_count": 2,
   "metadata": {
    "id": "mEp8IGhcr8wH"
   },
   "outputs": [],
   "source": [
    "def check_function(test_name, function_name, test_input, test_output):\n",
    "    try:\n",
    "        student_output = function_name(*test_input)\n",
    "    except TypeError as error:\n",
    "        print(\"Function\", test_name, \"has a error and didn't run cleanly. Error:\", error)\n",
    "        return False\n",
    "    if isinstance(student_output, tuple):\n",
    "        student_output = list(student_output)\n",
    "    else:\n",
    "        student_output = [student_output]\n",
    "\n",
    "    for i in range(len(test_output)):\n",
    "        if not torch.allclose(student_output[i], test_output[i], rtol=1e-03):\n",
    "            print(test_name, \": Your function DOES NOT work.\")\n",
    "            return False\n",
    "    print(test_name, \": Your function works!\")\n",
    "    return True\n",
    "\n",
    "def check_losses(test_name, losses_array, loss_threshold):\n",
    "    average_loss_last5 = np.mean(losses[-5:])\n",
    "    if average_loss_last5 >= loss_threshold:\n",
    "        print(test_name, \": Your function isn't optimized well\")\n",
    "        return False\n",
    "    else:\n",
    "        print(test_name, \": Your function works!\")\n",
    "    return True\n",
    "\n",
    "def check_shape(test_name, your_shape, expected_shape):\n",
    "    if your_shape != expected_shape:\n",
    "        print(test_name, \": Your function DOES NOT output a tensor with expected shape\")\n",
    "        return False\n",
    "    else:\n",
    "        print(test_name, \": Your function outputs the expected shape!\")\n",
    "    return True"
   ]
  },
  {
   "cell_type": "markdown",
   "metadata": {
    "id": "sn2DXpgpiXml"
   },
   "source": [
    "# Part 1: Convolutional Auto-Decoders\n",
    "\n",
    "As a training exercise, we will build a convolutional auto-decoder to reconstruct images of MNIST digits.\n",
    "\n",
    "The techniques we will learn will apply 1:1 to Part 2, where we will build auto-decoders for 3D scenes!\n",
    "\n",
    "The MNIST dataset is conveniently available in Pytorch:"
   ]
  },
  {
   "cell_type": "code",
   "execution_count": 3,
   "metadata": {
    "colab": {
     "base_uri": "https://localhost:8080/",
     "height": 797
    },
    "id": "_WWPPAEXiaXp",
    "outputId": "1fb88ff0-f942-40f9-b444-ff02575a3ff2"
   },
   "outputs": [
    {
     "name": "stdout",
     "output_type": "stream",
     "text": [
      "5\n"
     ]
    },
    {
     "data": {
      "image/png": "[encoded data removed]",
      "text/plain": [
       "<Figure size 640x480 with 1 Axes>"
      ]
     },
     "metadata": {},
     "output_type": "display_data"
    }
   ],
   "source": [
    "mnist = datasets.MNIST('mnist_data', train=True, download=True,\n",
    "                        transform=transforms.Compose([\n",
    "                            torchvision.transforms.Pad(18, fill=0, padding_mode='constant'),\n",
    "                            transforms.ToTensor()\n",
    "                        ]))\n",
    "# The dataset yields tuples of (image, digit_class)\n",
    "img, digit = next(iter(mnist))\n",
    "\n",
    "print(digit)\n",
    "plt.imshow(img.squeeze())\n",
    "plt.show()"
   ]
  },
  {
   "cell_type": "markdown",
   "metadata": {
    "id": "bWFd3NTKkwK7"
   },
   "source": [
    "## Part 1.1: Writing a Convolutional Decoder\n",
    "\n",
    "First, we will write a convolutional decoder: This is a module that will take in a feature map of size `(batch, in_ch, height, width)` and up-sample it `num_up` times to yield a feature map of size `(batch, out_ch, height*(2^num_up), width*(2^num_up)`.\n",
    "\n",
    "**DISCLAIMER: For upsampling, we will use transpose convolutions. Note that this is, generally, a bad idea - usually, you would use a conditional convolutional network like in the StyleGan v2 decoder, but that is not the focus of this class, and we didn't talk about it, so we're going with this :) Note that that wouldn't change the input-output behavior of this module, it would just replace the transpose convolutions with FiLM / Ada-In conditioned convolutions, but we digress.**\n",
    "\n",
    "Implement the convolutional decoder with transpose convolutions below."
   ]
  },
  {
   "cell_type": "code",
   "execution_count": 4,
   "metadata": {
    "colab": {
     "base_uri": "https://localhost:8080/"
    },
    "id": "Y8UnwFLbk2th",
    "outputId": "706a2b58-bf02-486e-88eb-8e9705d1da15"
   },
   "outputs": [
    {
     "name": "stderr",
     "output_type": "stream",
     "text": [
      "/media/ubuntu/Data/tools/anaconda3/envs/mlig/lib/python3.9/site-packages/torch/functional.py:478: UserWarning: torch.meshgrid: in an upcoming release, it will be required to pass the indexing argument. (Triggered internally at  /opt/conda/conda-bld/pytorch_1656352660876/work/aten/src/ATen/native/TensorShape.cpp:2894.)\n",
      "  return _VF.meshgrid(tensors, **kwargs)  # type: ignore[attr-defined]\n"
     ]
    },
    {
     "name": "stdout",
     "output_type": "stream",
     "text": [
      "ConvDecoder : Your function outputs the expected shape!\n"
     ]
    },
    {
     "data": {
      "text/plain": [
       "True"
      ]
     },
     "execution_count": 4,
     "metadata": {},
     "output_type": "execute_result"
    }
   ],
   "source": [
    "class CoordCat(nn.Module):\n",
    "    \"\"\"\n",
    "    This class takes an input of shape (B, L, ...) and concatenates normalied\n",
    "    coordinates along the latent dimension. This is followed when we need\n",
    "    positional information, such as in the case of CoordConv. We will use this\n",
    "    when we write the decoder in ConvDecoder.\n",
    "    \"\"\"\n",
    "    def __init__(self, mode=\"2d\"):\n",
    "        super().__init__()\n",
    "        self.mode = mode\n",
    "\n",
    "    def forward(self, input):\n",
    "        if self.mode == \"2d\":\n",
    "            x = torch.linspace(-1, 1, input.shape[2])\n",
    "            y = torch.linspace(-1, 1, input.shape[3])\n",
    "            xy = torch.meshgrid(x, y)\n",
    "            xy = torch.stack(xy, dim=0)\n",
    "            out = xy.repeat(input.shape[0], 1, 1, 1)\n",
    "        else:\n",
    "            x = torch.linspace(-1, 1, input.shape[2])\n",
    "            y = torch.linspace(-1, 1, input.shape[3])\n",
    "            z = torch.linspace(-1, 1, input.shape[4])\n",
    "            xyz = torch.meshgrid(x, y, z)\n",
    "            xyz = torch.stack(xyz, dim=0)\n",
    "            out = xyz.repeat(input.shape[0], 1, 1, 1, 1)\n",
    "        return torch.cat([input, out.to(input.device)], dim=1)\n",
    "\n",
    "class ConvDecoder(nn.Module):\n",
    "    def __init__(self, in_ch, hidden_ch, num_up, out_ch, mode='2d'):\n",
    "        super().__init__()\n",
    "\n",
    "        \"\"\"\n",
    "        In this function, we will construct a convolutional decoder based on the\n",
    "        input mode and other input parameters specifying the input, hidden, and\n",
    "        output channels. num_up specifies the number of layers in the decoder.\n",
    "\n",
    "        For mode is '2d', we use nn.Conv2d to perform the initial and final\n",
    "        convolutions, and nn.Conv3d is used when mode is '3d'.\n",
    "\n",
    "        We use transposed convolutions to upscale the input. We will use\n",
    "        nn.ConvTranspose2d when mode is '2d' and nn.ConvTranspose3d when mode is\n",
    "        '3d'. This is used to decode the input into a 2D or 3D feature tensor.\n",
    "\n",
    "        Note: Do not call '.to(device)' on any modules defined here.\n",
    "              All modules are automatically mounted to device when initiated\n",
    "              and mounted on device.\n",
    "        \"\"\"\n",
    "\n",
    "        if mode=='2d':\n",
    "            conv = nn.Conv2d\n",
    "            transpose_conv = nn.ConvTranspose2d\n",
    "            input_hidden_channels = hidden_ch + 2\n",
    "        elif mode == '3d':\n",
    "            conv = nn.Conv3d\n",
    "            transpose_conv = nn.ConvTranspose3d\n",
    "            input_hidden_channels = hidden_ch + 3\n",
    "\n",
    "        ###\n",
    "        # TODO\n",
    "        # Specify in_conv as a nn.Sequential with (conv, LeakyReLU) where conv\n",
    "        # is the convolution operation defined above. This uses the input\n",
    "        # channels as in_ch and outputs hidden_ch channels with stride of 1 and\n",
    "        # padding specified as 'same' with 'zeros'. Make sure to perform\n",
    "        # LeakyReLU inplace and use negative_slope of 0.2.\n",
    "\n",
    "\n",
    "        self.in_conv = nn.Sequential()\n",
    "        self.in_conv.append(conv(in_ch, hidden_ch, kernel_size=3, stride=1, padding='same'))\n",
    "        self.in_conv.append(nn.LeakyReLU(0.2))\n",
    "\n",
    "        # Hidden transposed convolution layers\n",
    "        # One way to define nn.Sequential module is nn.Sequential(*arr) where\n",
    "        # arr is a list containing nn.Module units. Here, we will append\n",
    "        # (CoordCat, transpose_conv, LeakyReLU), 'num_up' times. CoordCat needs\n",
    "        # to mode as the argument. Each of the transpose_conv use\n",
    "        # input_hidden_channels as the number of input channels and input and\n",
    "        # output hidden_ch channels using a kernel size of 3, stride\n",
    "        # of 2, padding as 1, and output_padding as 1.\n",
    "        hidden_conv = []\n",
    "        coord_cat = CoordCat(mode)\n",
    "\n",
    "        for i in range(num_up):\n",
    "            hidden_conv.append(coord_cat)\n",
    "            hidden_conv.append(transpose_conv(input_hidden_channels, hidden_ch, kernel_size=3, stride=2, padding=1,output_padding=1))\n",
    "            hidden_conv.append(nn.LeakyReLU(0.2))\n",
    "\n",
    "        self.hidden_conv = nn.Sequential(*hidden_conv)\n",
    "\n",
    "        # Specify out_conv using conv with hidden_ch input channels and outputting\n",
    "        # out_ch with kernel size as 3, padding as 'same', and padding_mode as\n",
    "        # 'zeros'.\n",
    "\n",
    "        self.out_conv = conv(hidden_ch, out_ch, kernel_size=3, stride=1, padding='same',padding_mode='zeros')\n",
    "\n",
    "        # TODO\n",
    "        ###\n",
    "\n",
    "        self.apply(init_weights)\n",
    "\n",
    "    def forward(self, input):\n",
    "        # TODO\n",
    "        # Call in_conv, hidden_conv, and out_conv modules on the input.\n",
    "        x = self.in_conv(input)\n",
    "        x = self.hidden_conv(x)\n",
    "        out = self.out_conv(x)\n",
    "        return out\n",
    "\n",
    "\n",
    "def test_conv_decoder():\n",
    "    test_in = torch.randn((1, 4, 32, 32))\n",
    "    mod = ConvDecoder(in_ch = 4, hidden_ch = 32, num_up = 3, out_ch = 4)\n",
    "    return mod(test_in)\n",
    "\n",
    "check_shape(\"ConvDecoder\",\n",
    "            test_conv_decoder().shape,\n",
    "            torch.Size([1, 4, 256, 256]))"
   ]
  },
  {
   "cell_type": "markdown",
   "metadata": {
    "id": "l5h1MvpAmcFZ"
   },
   "source": [
    "## Part 1.2: Decoding a single latent code to an image.\n",
    "\n",
    "The convolutional decoder enables us to take a single latent code of shape (1, ch, 1, 1) and learn an MLP to upsample it to a full image.\n",
    "\n",
    "Below, write a class that accomplishes this `LatentFeatureGrid`:"
   ]
  },
  {
   "cell_type": "code",
   "execution_count": 5,
   "metadata": {
    "id": "m12BExCpm-RW"
   },
   "outputs": [],
   "source": [
    "import torch.nn.functional as F\n",
    "\n",
    "class LatentFeatureGrid(nn.Module):\n",
    "    def __init__(self, latent_sidelength, latent_ch, num_up, out_ch, mode='2d'):\n",
    "        super().__init__()\n",
    "\n",
    "        if mode == '2d':\n",
    "            latent_shape = 1, latent_ch, latent_sidelength, latent_sidelength\n",
    "        elif mode == '3d':\n",
    "            latent_shape = 1, latent_ch, latent_sidelength, latent_sidelength, latent_sidelength\n",
    "\n",
    "        #######\n",
    "        # TODO\n",
    "        # Generate an nn.Parameter with shape (1, out_dim, *resolution_per_dim)\n",
    "        # called self.latent_grid with small positive random numbers.\n",
    "        if mode == '2d':\n",
    "          self.latent_grid = nn.Parameter(torch.randn(1, latent_ch , latent_sidelength, latent_sidelength))\n",
    "          print(\"2d\")\n",
    "        elif mode == '3d':\n",
    "          self.latent_grid = nn.Parameter(torch.randn(1, out_ch , latent_sidelength, latent_sidelength, latent_sidelength))\n",
    "          print(\"3d\")\n",
    "\n",
    "\n",
    "\n",
    "        # Instatiate decoder as ConvDecoder which takes in latent_ch channels as\n",
    "        # input and output, and the num_up and mode specified in the arguments.\n",
    "\n",
    "        self.decoder = ConvDecoder(in_ch=latent_ch, hidden_ch=latent_ch, out_ch=out_ch, num_up=num_up, mode=mode)\n",
    "\n",
    "        # TODO\n",
    "        ######\n",
    "\n",
    "    def forward(self, input=None):\n",
    "        '''\n",
    "        coordinate: (batch_size, num_points, 2)\n",
    "        '''\n",
    "        # TODO\n",
    "        # return the output of the decoder on input of self.latent_grid.\n",
    "        return self.decoder(self.latent_grid)"
   ]
  },
  {
   "cell_type": "markdown",
   "metadata": {
    "id": "D7CymGOKnuzX"
   },
   "source": [
    "## Part 1.3: Fitting a single latent to a single image.\n",
    "\n",
    "In homework 1, we fit an image grid to an image grid. Now, we will do something similar: we will fit a low-dimensional feature grid to an image.\n",
    "\n",
    "Let's retrieve a single image from our mnist dataset, and wrap it in a little generator that will always yield exactly that one image:"
   ]
  },
  {
   "cell_type": "code",
   "execution_count": 6,
   "metadata": {
    "id": "t2iW2aopn-9F"
   },
   "outputs": [],
   "source": [
    "image, _ = next(iter(mnist))\n",
    "\n",
    "def image_generator():\n",
    "    while True:\n",
    "        # We have to yield \"none\" as the first entry of the tuple, as our\n",
    "        # Fitting function expects some kind of model_input\n",
    "        yield None, torch.tensor(image, device=device)[None]"
   ]
  },
  {
   "cell_type": "markdown",
   "metadata": {
    "id": "PcupwA-d-R-C"
   },
   "source": [
    "We now create the function `fit`, which defines the training loop.\n",
    "\n"
   ]
  },
  {
   "cell_type": "code",
   "execution_count": 7,
   "metadata": {
    "id": "WGl-H-cXnw1s"
   },
   "outputs": [],
   "source": [
    "import matplotlib.pyplot as plt\n",
    "import collections\n",
    "%matplotlib inline\n",
    "%config InlineBackend.figure_format='retina'\n",
    "\n",
    "def to_gpu(ob):\n",
    "    if isinstance(ob, collections.abc.Mapping):\n",
    "        return {k: to_gpu(v) for k, v in ob.items()}\n",
    "    elif isinstance(ob, tuple):\n",
    "        return tuple(to_gpu(k) for k in ob)\n",
    "    elif isinstance(ob, list):\n",
    "        return [to_gpu(k) for k in ob]\n",
    "    else:\n",
    "        try:\n",
    "            return ob.cuda()\n",
    "        except:\n",
    "            return ob\n",
    "\n",
    "def fit(\n",
    "    model: nn.Module,\n",
    "    data_iterator,\n",
    "    loss_fn,\n",
    "    resolution: Tuple,\n",
    "    optimizer,\n",
    "    plotting_function = None,\n",
    "    steps_til_summary = 500,\n",
    "    total_steps=2001\n",
    "   ):\n",
    "\n",
    "    losses = []\n",
    "    for step in range(total_steps):\n",
    "        # Get the next batch of data and move it to the GPU\n",
    "        model_input, ground_truth = next(data_iterator)\n",
    "        model_input, ground_truth = to_gpu(model_input), to_gpu(ground_truth)\n",
    "\n",
    "        # Compute the MLP output for the given input data and compute the loss\n",
    "        model_output = model(model_input)\n",
    "\n",
    "        # Implement a simple mean-squared-error loss between the\n",
    "        loss = loss_fn(model_output, ground_truth, model) # Note: loss now takes \"model\" as input.\n",
    "\n",
    "        optimizer.zero_grad()\n",
    "        loss.backward()\n",
    "        optimizer.step()\n",
    "\n",
    "        # Accumulate the losses so that we can plot them later\n",
    "        # losses.append(loss.detach().cpu().numpy())\n",
    "\n",
    "        # Every so often, we want to show what our model has learned.\n",
    "        # It would be boring otherwise!\n",
    "        if not step % steps_til_summary:\n",
    "            print(f\"Step {step}: loss = {float(loss.detach().cpu()):.5f}\")\n",
    "\n",
    "            if plotting_function is not None: # Note: we now call the \"plotting function\" instead of hard-coding the plotting here.\n",
    "                plotting_function(model_output, ground_truth, resolution)\n",
    "\n",
    "    return model_output"
   ]
  },
  {
   "cell_type": "markdown",
   "metadata": {
    "id": "RUL5c4X4oRbn"
   },
   "source": [
    "As loss, we will use a simple mse loss for now. Note that it now must accept the \"model\" variable as input."
   ]
  },
  {
   "cell_type": "code",
   "execution_count": 8,
   "metadata": {
    "id": "QB-kX3ACnro3"
   },
   "outputs": [],
   "source": [
    "def mse_loss(\n",
    "    mlp_out,\n",
    "    gt,\n",
    "    model: nn.Module # We won't be using this one here, but later, we will!\n",
    "    ):\n",
    "    return ((mlp_out - gt)**2).mean()"
   ]
  },
  {
   "cell_type": "markdown",
   "metadata": {
    "id": "_MvHYQ86-bax"
   },
   "source": [
    "Let's implement the plotting function for this single-image fitting experiment. It will simply take the model output (which in this case will be the image) and plot it next to the ground truth."
   ]
  },
  {
   "cell_type": "code",
   "execution_count": 9,
   "metadata": {
    "id": "DThNSJkh-fsU"
   },
   "outputs": [],
   "source": [
    "def plot_output_ground_truth(model_output, ground_truth, resolution):\n",
    "    fig, axes = plt.subplots(1, 2, figsize=(12, 6), squeeze=False)\n",
    "    axes[0, 0].imshow(model_output.cpu().view(*resolution).detach().numpy())\n",
    "    axes[0, 0].set_title(\"Trained MLP\")\n",
    "    axes[0, 1].imshow(ground_truth.cpu().view(*resolution).detach().numpy())\n",
    "    axes[0, 1].set_title(\"Ground Truth\")\n",
    "\n",
    "    for i in range(2):\n",
    "        axes[0, i].set_axis_off()\n",
    "\n",
    "    plt.show()"
   ]
  },
  {
   "cell_type": "markdown",
   "metadata": {
    "id": "gE8DnKgMofiH"
   },
   "source": [
    "We instantiate our model, as well as an optimizer:"
   ]
  },
  {
   "cell_type": "code",
   "execution_count": 10,
   "metadata": {
    "colab": {
     "base_uri": "https://localhost:8080/"
    },
    "id": "afE-G_M9oh2a",
    "outputId": "f76dfd70-e8ca-4861-adc7-6eeed8575ce5"
   },
   "outputs": [
    {
     "name": "stdout",
     "output_type": "stream",
     "text": [
      "2d\n"
     ]
    }
   ],
   "source": [
    "# TODO\n",
    "# Define latent_img as LatentFeatureGrid with latent_sidelength as 2, latent_ch\n",
    "# as 128, outputting 1 channel, using 5 upsampling layers (num_up). Mount\n",
    "# the latent_img on the gpu.\n",
    "\n",
    "latent_img = LatentFeatureGrid(latent_sidelength=2, latent_ch=128, num_up=5, out_ch=1).to(device)\n",
    "\n",
    "# Define optim as Adam optimizer that optimizes the parameters of latent_img\n",
    "# with a learning rate of 1e-4\n",
    "\n",
    "optim = torch.optim.Adam(latent_img.parameters(), lr=1e-4)"
   ]
  },
  {
   "cell_type": "markdown",
   "metadata": {
    "id": "YiD4qtbXokSj"
   },
   "source": [
    "And can now call the `fit` function!"
   ]
  },
  {
   "cell_type": "markdown",
   "metadata": {
    "colab": {
     "background_save": true,
     "base_uri": "https://localhost:8080/",
     "height": 1000
    },
    "id": "3RyvRmoypTmB",
    "outputId": "56c559cd-5ba1-4dfd-b07c-f0b51aeb3a97"
   },
   "source": [
    "# TODO\n",
    "# Call the fit function using latent_img as the model, image_generator as the\n",
    "# data_iteratorm, mse_loss as the loss_fn. We will optimize with a image resolution\n",
    "# of (64, 64) for 501 steps as fitting an image is relatively quick!\n",
    "# Don't forget to pass the optimize and plot_output_groun_truth for plotting.\n",
    "\n",
    "final_out = fit(model=latent_img, data_iterator=image_generator(),\n",
    "                loss_fn=mse_loss, resolution=(64,64),\n",
    "                optimizer=optim,\n",
    "                plotting_function=plot_output_ground_truth)"
   ]
  },
  {
   "cell_type": "markdown",
   "metadata": {
    "id": "P5Rtt7UPr2UH"
   },
   "source": [
    "Ok - so far, nothing new. The fact that this works should not surprise you!\n",
    "\n",
    "Now, let's make this more interesting. Let's learn a *space* of MNIST images!"
   ]
  },
  {
   "cell_type": "code",
   "execution_count": 11,
   "metadata": {
    "colab": {
     "background_save": true
    },
    "id": "TACZ4jiwpANq"
   },
   "outputs": [],
   "source": [
    "del latent_img"
   ]
  },
  {
   "cell_type": "markdown",
   "metadata": {
    "id": "BAJGUpY_sGC4"
   },
   "source": [
    "## Part 1.4: Building a convolutional auto-decoder for images\n",
    "\n",
    "The `LatentImgGrid` module above only stores a *single* latent grid that can only represent a *single* image. This means that we cannot reconstruct an image from incomplete observations - for instance, observing only half the digit.\n",
    "\n",
    "Now, we will learn a *latent space* of digits, such that we can reconstruct a digit from a *partial* observations.\n",
    "\n",
    "We will do that using the *auto-decoder* framework discussed in the lecture. Given a dataset of images $\\{ I_i \\}_{i=1}^N$, we will randomly initialize a corresponding set of latent grids $\\{ \\mathbf{z}_i \\}_{i=1}^N$.\n",
    "\n",
    "We will then solve the following optimization problem:\n",
    "\n",
    "$$\n",
    "    min_{\\{\\mathbf{z}_i\\}} \\sum_i \\| D(\\mathbf{z}_i) - I_i \\|^2\n",
    "$$\n",
    "\n",
    "where $D(\\cdot)$ is our convolutional decoder."
   ]
  },
  {
   "cell_type": "markdown",
   "metadata": {
    "id": "HhnQRGhZ1zTE"
   },
   "source": [
    "### Part 1.4.1 Writing an image auto-decoder\n",
    "\n",
    "To build an auto-decoder, we will modify our `LatentFeatureGrid` class from above to have a *set* of latent codes instead of just a single latent code.\n",
    "\n",
    "In a forward pass, our model will now take as input a *scene idx* idx, retrieve the corresponding latent code, and decode that latent code only.\n",
    "\n",
    "Fill in the blanks below:"
   ]
  },
  {
   "cell_type": "code",
   "execution_count": 12,
   "metadata": {
    "colab": {
     "background_save": true
    },
    "id": "06s-iQFwsDBZ"
   },
   "outputs": [],
   "source": [
    "class ImageAutoDecoder(nn.Module):\n",
    "    def __init__(self, latent_sidelength, latent_ch, num_up, out_ch, num_latents):\n",
    "        super().__init__()\n",
    "        #######\n",
    "        # TODO\n",
    "\n",
    "        # Generate an nn.Embedding with num_latents each of dimension as\n",
    "        # latent_ch * latent_sidelength * latent_sidelength\n",
    "\n",
    "        self.latents = nn.Embedding(num_latents,latent_ch * latent_sidelength * latent_sidelength)\n",
    "        self.latents.weight.data.normal_\n",
    "\n",
    "        # Initialize the embedding using a normal distribution.\n",
    "        # We can directly do this by calling self.latents.weight.data.normal_\n",
    "        # with the mean of 0 and standard deviation as 1e-1.\n",
    "\n",
    "        ########################## YOUR CODE HERE #############################\n",
    "\n",
    "\n",
    "        # Define decoder as a ConvDecoder which takes in latent_ch channel input\n",
    "        # and outputs a out_ch channel output. We will use num_up upsampling\n",
    "        # layers, each with hidden dimension of 128.\n",
    "\n",
    "        self.decoder = ConvDecoder(in_ch=latent_ch, hidden_ch=128, out_ch=out_ch, num_up=num_up)\n",
    "\n",
    "        # TODO\n",
    "        ######\n",
    "\n",
    "        self.latent_ch = latent_ch\n",
    "        self.latent_sl = latent_sidelength\n",
    "\n",
    "    def forward(self, idcs):\n",
    "        '''\n",
    "        idcs: (batch_size, 1)\n",
    "        '''\n",
    "        # TODO\n",
    "        bs=1\n",
    "        if idcs.shape[0] is not None:\n",
    "          bs=idcs.shape[0]\n",
    "\n",
    "        # Using the input indices 'idcs', get the respective latents\n",
    "        latents = self.latents(idcs)\n",
    "\n",
    "        # Reshape the latents to (batch_size, latent_ch, latent_sidelength, latent_sidelength)\n",
    "        latents = latents.reshape(bs, self.latent_ch, self.latent_sl, self.latent_sl)\n",
    "\n",
    "        # Compute the output of decoder of the latents\n",
    "        outputs = self.decoder(latents)\n",
    "        return outputs, latents\n",
    "        # TODO"
   ]
  },
  {
   "cell_type": "markdown",
   "metadata": {
    "id": "RwwugJi5tkw4"
   },
   "source": [
    "We can now call this module with an input that is a tensor of integer values as follows:"
   ]
  },
  {
   "cell_type": "code",
   "execution_count": 13,
   "metadata": {
    "colab": {
     "background_save": true
    },
    "id": "2vupeIh-_Qzi",
    "outputId": "099fcc20-ffe4-43cd-e032-b41b993d2d3a"
   },
   "outputs": [],
   "source": [
    "def test_autodecoder_class():\n",
    "    img_ad = ImageAutoDecoder(4, 32, num_up=4, out_ch=1, num_latents=100).cuda()\n",
    "\n",
    "    idx = torch.tensor([0], device=device).int()\n",
    "    img_ad(idx)\n",
    "\n",
    "test_autodecoder_class()"
   ]
  },
  {
   "cell_type": "markdown",
   "metadata": {
    "id": "K3e79_xn2l34"
   },
   "source": [
    "### Part 1.4.2 Training a space of MNIST digits\n",
    "\n",
    "Now, let's train a latent space of MNIST digits! First, we'll need to prep a dataset. The dataset will need to yield as model input the index of the respective image, and as ground truth the image.\n",
    "\n",
    "Fill in the blanks:"
   ]
  },
  {
   "cell_type": "code",
   "execution_count": 14,
   "metadata": {
    "colab": {
     "background_save": true
    },
    "id": "rLYXg2w92xbj"
   },
   "outputs": [],
   "source": [
    "class MNISTAutoDecData(torch.utils.data.IterableDataset):\n",
    "    def __init__(self, num_images):\n",
    "        self.mnist = datasets.MNIST('mnist_data', train=True, download=True,\n",
    "                                transform=transforms.Compose([\n",
    "                                    torchvision.transforms.Pad(18, fill=0, padding_mode='constant'),\n",
    "                                    transforms.ToTensor()\n",
    "                                ]))\n",
    "        self.num_images = num_images\n",
    "\n",
    "    def __iter__(self):\n",
    "        while True:\n",
    "            #######\n",
    "            # TODO\n",
    "            # Get a random integer in range [0, self.num_images)\n",
    "            rand_idx = np.random.randint(0, self.num_images)\n",
    "            #print(rand_idx)\n",
    "\n",
    "            # get the img and digit from mnist dataset\n",
    "            img, digit = self.mnist[rand_idx]\n",
    "            #print(digit)\n",
    "\n",
    "            # TODO\n",
    "            ######\n",
    "\n",
    "            # yield tensor with rand_idx and a tuple of (image, digit)\n",
    "            yield torch.tensor([rand_idx]), (img, digit)\n"
   ]
  },
  {
   "cell_type": "markdown",
   "metadata": {
    "id": "xcFG_T2X4k-a"
   },
   "source": [
    "We will now decide on the number of images we would like to auto-decode. Let's go with 10,000:"
   ]
  },
  {
   "cell_type": "code",
   "execution_count": 15,
   "metadata": {
    "colab": {
     "background_save": true
    },
    "id": "GOKpwVzrAc2A"
   },
   "outputs": [],
   "source": [
    "num_imgs = 10_000\n",
    "dataset = MNISTAutoDecData(num_imgs)\n",
    "loader = torch.utils.data.DataLoader(dataset, batch_size=64)\n"
   ]
  },
  {
   "cell_type": "markdown",
   "metadata": {
    "id": "AQaTJBLCAdSx"
   },
   "source": [
    "Let's initialize our auto-decoding model with an according number of latents:"
   ]
  },
  {
   "cell_type": "code",
   "execution_count": 16,
   "metadata": {
    "colab": {
     "background_save": true
    },
    "id": "YH-hzwm4AlI5"
   },
   "outputs": [
    {
     "data": {
      "text/plain": [
       "ImageAutoDecoder(\n",
       "  (latents): Embedding(10000, 64)\n",
       "  (decoder): ConvDecoder(\n",
       "    (in_conv): Sequential(\n",
       "      (0): Conv2d(64, 128, kernel_size=(3, 3), stride=(1, 1), padding=same)\n",
       "      (1): LeakyReLU(negative_slope=0.2)\n",
       "    )\n",
       "    (hidden_conv): Sequential(\n",
       "      (0): CoordCat()\n",
       "      (1): ConvTranspose2d(130, 128, kernel_size=(3, 3), stride=(2, 2), padding=(1, 1), output_padding=(1, 1))\n",
       "      (2): LeakyReLU(negative_slope=0.2)\n",
       "      (3): CoordCat()\n",
       "      (4): ConvTranspose2d(130, 128, kernel_size=(3, 3), stride=(2, 2), padding=(1, 1), output_padding=(1, 1))\n",
       "      (5): LeakyReLU(negative_slope=0.2)\n",
       "      (6): CoordCat()\n",
       "      (7): ConvTranspose2d(130, 128, kernel_size=(3, 3), stride=(2, 2), padding=(1, 1), output_padding=(1, 1))\n",
       "      (8): LeakyReLU(negative_slope=0.2)\n",
       "      (9): CoordCat()\n",
       "      (10): ConvTranspose2d(130, 128, kernel_size=(3, 3), stride=(2, 2), padding=(1, 1), output_padding=(1, 1))\n",
       "      (11): LeakyReLU(negative_slope=0.2)\n",
       "      (12): CoordCat()\n",
       "      (13): ConvTranspose2d(130, 128, kernel_size=(3, 3), stride=(2, 2), padding=(1, 1), output_padding=(1, 1))\n",
       "      (14): LeakyReLU(negative_slope=0.2)\n",
       "      (15): CoordCat()\n",
       "      (16): ConvTranspose2d(130, 128, kernel_size=(3, 3), stride=(2, 2), padding=(1, 1), output_padding=(1, 1))\n",
       "      (17): LeakyReLU(negative_slope=0.2)\n",
       "    )\n",
       "    (out_conv): Conv2d(128, 1, kernel_size=(3, 3), stride=(1, 1), padding=same)\n",
       "  )\n",
       ")"
      ]
     },
     "execution_count": 16,
     "metadata": {},
     "output_type": "execute_result"
    }
   ],
   "source": [
    "# TODO\n",
    "# Create an ImageAutoDecoder with sidelength 1, latent_ch as 64, out_ch as 1,\n",
    "# and number of latents as num_imgs (we want one for each image). Mount the model\n",
    "# on the gpu using .cuda().\n",
    "img_ad = ImageAutoDecoder(latent_sidelength=1, latent_ch=64, num_up=6, out_ch=1, num_latents=num_imgs)\n",
    "img_ad.cuda()"
   ]
  },
  {
   "cell_type": "markdown",
   "metadata": {
    "id": "ykeOpnT4CpBM"
   },
   "source": [
    "Let's test a single batch:"
   ]
  },
  {
   "cell_type": "code",
   "execution_count": 17,
   "metadata": {
    "colab": {
     "background_save": true
    },
    "id": "uQ7jhYAsCrE8"
   },
   "outputs": [],
   "source": [
    "idx, (img, digit) = next(iter(loader))\n",
    "test_out = img_ad(idx.cuda())\n",
    "\n",
    "del test_out"
   ]
  },
  {
   "cell_type": "markdown",
   "metadata": {
    "id": "zGsJvanKpL2d"
   },
   "source": [
    "Now, we'll have to write a loss for the auto-decoder. This loss is a bit more involved. It has three parts:\n",
    "1. An image loss - that's just the reconstruction loss.\n",
    "2. An l2 loss on the latents. This encourages the latent space to be smooth by forcing all the latents to stay close to the origin.\n",
    "3. A small l2 loss on the parameters of the convolutional decoder. This prevents overfitting of the decoder.\n",
    "\n",
    "**This is why we need to pass the model as a parameter to the loss function - so that we can enforce a small l2 regularizer on the model parameters.**\n",
    "\n",
    "Fill in the blanks below:"
   ]
  },
  {
   "cell_type": "code",
   "execution_count": 18,
   "metadata": {
    "colab": {
     "background_save": true
    },
    "id": "U-9EzUs6BHep"
   },
   "outputs": [],
   "source": [
    "def autodecoder_loss(mlp_out, gt, model):\n",
    "\n",
    "    img, latents = mlp_out\n",
    "\n",
    "    # TODO\n",
    "    # Image loss: Compute the mean squared error loss using the img and gt[0]\n",
    "    loss = nn.MSELoss()\n",
    "    img_loss = loss(img, gt[0])\n",
    "\n",
    "    # Latent loss: We want the latents to be small valued which can be achieved\n",
    "    # by adding the mean-square of the values of the latent. This is also called\n",
    "    # sparisity loss as it promotes the values of the latents to be close to 0.\n",
    "    latent_loss =torch.norm(torch.mean(latents), p=2)\n",
    "\n",
    "    # L2 weight regularization: Similarly, we want the weights of the model to\n",
    "    # sparse as well. Loop over all the parameters of the model and add the\n",
    "    # mean-square of the parameters to param_loss.\n",
    "    # Look at model.named_parameters() and make sure not to apply the loss if\n",
    "    # 'latent' is in the name of the parameter.\n",
    "    param_loss = 0\n",
    "    for name, param in model.named_parameters():\n",
    "        if name[0]!=\"l\":\n",
    "            param_loss += torch.norm(torch.mean(param), p=2)\n",
    "    #### YOUR CODE HERE ####\n",
    "\n",
    "    return param_loss*1e-2 + latent_loss*1e-2 + img_loss"
   ]
  },
  {
   "cell_type": "markdown",
   "metadata": {
    "id": "Xq8A-9oVpe-c"
   },
   "source": [
    "We also need to write a new function plotting function, as the `model_output` is now a tuple.\n",
    "\n",
    "All we have to do is to only plot the first part of the tuple:"
   ]
  },
  {
   "cell_type": "code",
   "execution_count": 19,
   "metadata": {
    "colab": {
     "background_save": true
    },
    "id": "gm45QONTDG_E"
   },
   "outputs": [],
   "source": [
    "def plot_output_ground_truth(model_output, ground_truth, resolution):\n",
    "    img, _ = model_output\n",
    "\n",
    "    fig, axes = plt.subplots(1, 2, figsize=(12, 6), squeeze=False)\n",
    "    axes[0, 0].imshow(img[0].cpu().view(*resolution).detach().numpy())\n",
    "    axes[0, 0].set_title(\"Trained MLP\")\n",
    "    axes[0, 1].imshow(ground_truth[0][0].cpu().view(*resolution).detach().numpy())\n",
    "    axes[0, 1].set_title(\"Ground Truth\")\n",
    "\n",
    "    for i in range(2):\n",
    "        axes[0, i].set_axis_off()\n",
    "\n",
    "    plt.show()\n"
   ]
  },
  {
   "cell_type": "markdown",
   "metadata": {
    "id": "DVjNy7N4Ao7I"
   },
   "source": [
    "Now, let's fit!\n",
    "\n",
    "**Note that this training takes quite a bit longer than prior experiments (~10 minutes) - that's because this time, our neural network actually has to learn how to compress information!**\n",
    "\n",
    "As you're training, pay attention to how the images look vs. ground truth. One thing you should see is that *the auto-decoder gets the digit right long before it gets the exact shape right*. What I mean by that is that the output might look like a 4, but it looks like a *different* 4 than the ground-truth one. That's a good sign that our latent space is working, and that all the fours lie close to each other in latent space!"
   ]
  },
  {
   "cell_type": "markdown",
   "metadata": {
    "colab": {
     "background_save": true
    },
    "id": "8_AGCWgx4uoK"
   },
   "source": [
    "# TODO\n",
    "# Define optim as Adam optimizer which optimizes the parameters of img_ad with\n",
    "# a learning rate of 1e-3.\n",
    "optim = torch.optim.Adam(img_ad.parameters(), lr=1e-3)\n",
    "\n",
    "_ = fit(img_ad,\n",
    "        iter(loader),\n",
    "        loss_fn=autodecoder_loss,\n",
    "        resolution=(64, 64),\n",
    "        plotting_function=plot_output_ground_truth,\n",
    "        optimizer=optim,\n",
    "        total_steps=10001\n",
    "        )"
   ]
  },
  {
   "cell_type": "markdown",
   "metadata": {
    "id": "IZz4uwSsD4IB"
   },
   "source": [
    "Hint: the loss should converge to approximately ~ 1e-3 after 10000 steps, and the digits should be clearly legible."
   ]
  },
  {
   "cell_type": "markdown",
   "metadata": {
    "id": "TjL-StwLDaul"
   },
   "source": [
    "### Part 1.4.3: Reconstructing a partial MNIST digit\n",
    "\n",
    "What have we gained? Two things: we have learned an expressive latent space, and we have gained the ability to reconstruct digits from incomplete observations.\n",
    "\n",
    "Specifically:\n",
    "1. We are given the *left half* of an image.\n",
    "2. We will initialize a new latent code, randomly.\n",
    "3. Freezing the weights of our model, we will only backpropagate into the latent code to make the left half of the images match.\n",
    "\n",
    "First, let's build a loss that only penalizes the left half of the image:"
   ]
  },
  {
   "cell_type": "code",
   "execution_count": 20,
   "metadata": {
    "colab": {
     "background_save": true
    },
    "id": "o1oYFZD_D4Ol"
   },
   "outputs": [],
   "source": [
    "def left_half_loss(mlp_out, gt, model):\n",
    "    img, latents = mlp_out\n",
    "\n",
    "    # TODO\n",
    "    # Compute the pixel-wise squared difference between img and gt[0]\n",
    "    \n",
    "    diff = (torch.abs(img - gt[0]))**2\n",
    "\n",
    "    #print(\"diff shape:\", diff.shape)\n",
    "    # Define the half as the left half of the diff\n",
    "    half = diff[:,:,:32,:32]\n",
    "\n",
    "    #latent_loss =torch.norm(torch.mean(latents), p=2)\n",
    "    \n",
    "    return half.mean() #+ latent_loss*1e-2\n",
    "    # TODO"
   ]
  },
  {
   "cell_type": "markdown",
   "metadata": {
    "id": "fQbLmzoCKJvM"
   },
   "source": [
    "Next, let's re-initialize the latent grid of our model as follows:"
   ]
  },
  {
   "cell_type": "code",
   "execution_count": 21,
   "metadata": {
    "colab": {
     "background_save": true
    },
    "id": "ZBB26BghLcxe"
   },
   "outputs": [],
   "source": [
    "with torch.no_grad():\n",
    "    img_ad.latents.weight.data.zero_()\n",
    "    img_ad.latents.weight.data.normal_"
   ]
  },
  {
   "cell_type": "markdown",
   "metadata": {
    "id": "6JefBYdCKi-e"
   },
   "source": [
    "Now, we only need to build a optimizer that *only optimizes the latent grid, leaving the convolutional decoder untouched*.\n",
    "\n",
    "**This is why we modified the `fit` function to take the optimizer as input - we now don't want to optimize all the parameters anymore, just a subset!**"
   ]
  },
  {
   "cell_type": "code",
   "execution_count": 22,
   "metadata": {},
   "outputs": [
    {
     "data": {
      "text/plain": [
       "Parameter containing:\n",
       "tensor([[0., 0., 0.,  ..., 0., 0., 0.],\n",
       "        [0., 0., 0.,  ..., 0., 0., 0.],\n",
       "        [0., 0., 0.,  ..., 0., 0., 0.],\n",
       "        ...,\n",
       "        [0., 0., 0.,  ..., 0., 0., 0.],\n",
       "        [0., 0., 0.,  ..., 0., 0., 0.],\n",
       "        [0., 0., 0.,  ..., 0., 0., 0.]], device='cuda:0', requires_grad=True)"
      ]
     },
     "execution_count": 22,
     "metadata": {},
     "output_type": "execute_result"
    }
   ],
   "source": [
    "img_ad.latents.weight"
   ]
  },
  {
   "cell_type": "code",
   "execution_count": 23,
   "metadata": {
    "colab": {
     "background_save": true
    },
    "id": "1IDd89kyJw3B"
   },
   "outputs": [],
   "source": [
    "def return_optimizer():\n",
    "    # TODO\n",
    "    # return an optimizer that optimizes img_ad.latents.weights with a learning\n",
    "    # rate of 1e-4\n",
    "    return torch.optim.Adam([img_ad.latents.weight], lr=1e-4)\n",
    "optim = return_optimizer()"
   ]
  },
  {
   "cell_type": "markdown",
   "metadata": {
    "id": "Gm80118ALx1k"
   },
   "source": [
    "Let's randomly sample an mnist image and fit!"
   ]
  },
  {
   "cell_type": "code",
   "execution_count": 24,
   "metadata": {
    "colab": {
     "background_save": true
    },
    "id": "snbdqlQaL0J6"
   },
   "outputs": [],
   "source": [
    "def test_dataset():\n",
    "    idx, (img, digit) = next(iter(MNISTAutoDecData(num_imgs)))\n",
    "    while True:\n",
    "        yield idx, (img, digit)\n",
    "\n",
    "dataset = test_dataset()"
   ]
  },
  {
   "cell_type": "markdown",
   "metadata": {
    "colab": {
     "background_save": true
    },
    "id": "-SMliplOubLU"
   },
   "source": [
    "# TODO\n",
    "# Call the fit function to fit img_ad using the left_half_loss function using\n",
    "# optim as the optimizer. Train this for 10001 steps.\n",
    "\n",
    "_ = fit(img_ad,\n",
    "        iter(loader),\n",
    "        loss_fn=left_half_loss,\n",
    "        resolution=(64, 64),\n",
    "        plotting_function=plot_output_ground_truth,\n",
    "        optimizer=optim,\n",
    "        total_steps=10001\n",
    "        )\n",
    "\n",
    "img, latent = img_ad(torch.tensor([100]).cuda())"
   ]
  },
  {
   "cell_type": "markdown",
   "metadata": {
    "id": "wq6QiWzZ1hcJ"
   },
   "source": [
    "It works! Note how it completes the rest of the digit, even though it is only observing the left half.\n",
    "\n",
    "Note that the regularization and initialization of the latent codes in this case are critical. For instance, try training the auto-decoder when the latent codes are initialized with a large standard deviation: What you'll find is that you can still fit the training set just fine, but in-painting will *not* work! That's because it's critical that we force the latent space to be compact, i.e., that all the latent codes are close together and tightly packed. L2 regularization of weights and latent codes plays a similar role. If you run into troubles in your project, these are good things to investigate in a toy setup!"
   ]
  },
  {
   "cell_type": "code",
   "execution_count": 25,
   "metadata": {
    "id": "eTogHN6IgYod"
   },
   "outputs": [],
   "source": [
    "del img_ad\n",
    "del mnist\n",
    "del optim"
   ]
  },
  {
   "cell_type": "markdown",
   "metadata": {
    "id": "x5Y16Sn_txD_"
   },
   "source": [
    "# Part 2: Training an auto-decoder of voxelgrid scene representations\n",
    "\n",
    "Next, we will do the same thing just in 3D and with neural rendering!"
   ]
  },
  {
   "cell_type": "markdown",
   "metadata": {
    "id": "sVY3ddFZqcpl"
   },
   "source": [
    "## Part 2.0: Setup\n",
    "\n",
    "First, we'll need a dataset of images of 3D scenes and their camera poses. For that, we'll use the dataset from the paper \"Scene Representation Networks, Sitzmann et al. 2019\":"
   ]
  },
  {
   "cell_type": "markdown",
   "metadata": {
    "colab": {
     "base_uri": "https://localhost:8080/"
    },
    "id": "DFQkTeuvOtHU",
    "outputId": "7e8bb9c6-0c85-404d-ed66-eadca91b8783"
   },
   "source": [
    "import os\n",
    "\n",
    "if not os.path.exists(\"/content/cars_train.hdf5\"):\n",
    "    # Download SRNs-cars dataset\n",
    "    !gdown 1SBjlsizq0sFNkCZxMQh-pNRi0HyFozKb"
   ]
  },
  {
   "cell_type": "markdown",
   "metadata": {
    "id": "T8oCyH-NQf3D"
   },
   "source": [
    "Next, below, you can find all the multi-view functions again that you already know from Assignments 1 & 2:"
   ]
  },
  {
   "cell_type": "code",
   "execution_count": 82,
   "metadata": {
    "colab": {
     "base_uri": "https://localhost:8080/",
     "height": 246
    },
    "id": "EQwL_ax3Qj0s",
    "outputId": "4cac08be-1369-4767-e15d-6bdc45bb56b6"
   },
   "outputs": [],
   "source": [
    "def homogenize_points(points: torch.Tensor):\n",
    "    \"\"\"Appends a \"1\" to the coordinates of a (batch of) points of dimension DIM.\n",
    "\n",
    "    Args:\n",
    "        points: points of shape (..., DIM)\n",
    "\n",
    "    Returns:\n",
    "        points_hom: points with appended \"1\" dimension.\n",
    "    \"\"\"\n",
    "    ones = torch.ones_like(points[..., :1], device=points.device)\n",
    "    return torch.cat((points, ones), dim=-1)\n",
    "\n",
    "\n",
    "def homogenize_vecs(vectors: torch.Tensor):\n",
    "    \"\"\"Appends a \"0\" to the coordinates of a (batch of) vectors of dimension DIM.\n",
    "\n",
    "    Args:\n",
    "        vectors: vectors of shape (..., DIM)\n",
    "\n",
    "    Returns:\n",
    "        vectors_hom: points with appended \"0\" dimension.\n",
    "    \"\"\"\n",
    "    zeros = torch.zeros_like(vectors[..., :1], device=vectors.device)\n",
    "    return torch.cat((vectors, zeros), dim=-1)\n",
    "\n",
    "\n",
    "def unproject(\n",
    "    xy_pix: torch.Tensor,\n",
    "    z: torch.Tensor,\n",
    "    intrinsics: torch.Tensor\n",
    "    ) -> torch.Tensor:\n",
    "    \"\"\"Unproject (lift) 2D pixel coordinates x_pix and per-pixel z coordinate\n",
    "    to 3D points in camera coordinates.\n",
    "\n",
    "    Args:\n",
    "        xy_pix: 2D pixel coordinates of shape (..., 2)\n",
    "        z: per-pixel depth, defined as z coordinate of shape (..., 1)\n",
    "        intrinscis: camera intrinscics of shape (..., 3, 3)\n",
    "\n",
    "    Returns:\n",
    "        xyz_cam: points in 3D camera coordinates.\n",
    "    \"\"\"\n",
    "    xy_pix_hom = homogenize_points(xy_pix)\n",
    "    xyz_cam = torch.einsum('...ij,...kj->...ki', intrinsics.inverse(), xy_pix_hom)\n",
    "    xyz_cam *= z\n",
    "    return xyz_cam\n",
    "\n",
    "\n",
    "def transform_world2cam(xyz_world_hom: torch.Tensor, cam2world: torch.Tensor) -> torch.Tensor:\n",
    "    \"\"\"Transforms points from 3D world coordinates to 3D camera coordinates.\n",
    "\n",
    "    Args:\n",
    "        xyz_world_hom: homogenized 3D points of shape (..., 4)\n",
    "        cam2world: camera pose of shape (..., 4, 4)\n",
    "\n",
    "    Returns:\n",
    "        xyz_cam: points in camera coordinates.\n",
    "    \"\"\"\n",
    "    world2cam = torch.inverse(cam2world)\n",
    "    return transform_rigid(xyz_world_hom, world2cam)\n",
    "\n",
    "\n",
    "def transform_cam2world(xyz_cam_hom: torch.Tensor, cam2world: torch.Tensor) -> torch.Tensor:\n",
    "    \"\"\"Transforms points from 3D world coordinates to 3D camera coordinates.\n",
    "\n",
    "    Args:\n",
    "        xyz_cam_hom: homogenized 3D points of shape (..., 4)\n",
    "        cam2world: camera pose of shape (..., 4, 4)\n",
    "\n",
    "    Returns:\n",
    "        xyz_world: points in camera coordinates.\n",
    "    \"\"\"\n",
    "    return transform_rigid(xyz_cam_hom, cam2world)\n",
    "\n",
    "\n",
    "def transform_rigid(xyz_hom: torch.Tensor, T: torch.Tensor) -> torch.Tensor:\n",
    "    \"\"\"Apply a rigid-body transform to a (batch of) points / vectors.\n",
    "\n",
    "    Args:\n",
    "        xyz_hom: homogenized 3D points of shape (..., 4)\n",
    "        T: rigid-body transform matrix of shape (..., 4, 4)\n",
    "\n",
    "    Returns:\n",
    "        xyz_trans: transformed points.\n",
    "    \"\"\"\n",
    "    return torch.einsum('...ij,...kj->...ki', T, xyz_hom)\n",
    "\n",
    "\n",
    "def get_unnormalized_cam_ray_directions(xy_pix:torch.Tensor,\n",
    "                                        intrinsics:torch.Tensor) -> torch.Tensor:\n",
    "    return unproject(xy_pix, torch.ones_like(xy_pix[..., :1], device=xy_pix.device),  intrinsics=intrinsics)\n",
    "\n",
    "\n",
    "def get_world_rays(xy_pix: torch.Tensor,\n",
    "                   intrinsics: torch.Tensor,\n",
    "                   cam2world: torch.Tensor,\n",
    "                   ) -> torch.Tensor:\n",
    "    # Get camera origin of camera 1\n",
    "    cam_origin_world = cam2world[..., :3, -1]\n",
    "\n",
    "    # Get ray directions in cam coordinates\n",
    "    ray_dirs_cam = get_unnormalized_cam_ray_directions(xy_pix, intrinsics)\n",
    "\n",
    "    # Homogenize ray directions\n",
    "    rd_cam_hom = homogenize_vecs(ray_dirs_cam)\n",
    "\n",
    "    # Transform ray directions to world coordinates\n",
    "    rd_world_hom = transform_cam2world(rd_cam_hom, cam2world)\n",
    "\n",
    "    # Tile the ray origins to have the same shape as the ray directions.\n",
    "    # Currently, ray origins have shape (batch, 3), while ray directions have shape\n",
    "    cam_origin_world = repeat(cam_origin_world, 'b ch -> b num_rays ch', num_rays=ray_dirs_cam.shape[1])\n",
    "\n",
    "    # Return tuple of cam_origins, ray_world_directions\n",
    "    return cam_origin_world, rd_world_hom[..., :3]\n",
    "\n",
    "\n",
    "def get_opencv_pixel_coordinates(\n",
    "    y_resolution: int,\n",
    "    x_resolution: int,\n",
    "    ):\n",
    "    \"\"\"For an image with y_resolution and x_resolution, return a tensor of pixel coordinates\n",
    "    normalized to lie in [0, 1], with the origin (0, 0) in the top left corner,\n",
    "    the x-axis pointing right, the y-axis pointing down, and the bottom right corner\n",
    "    being at (1, 1).\n",
    "\n",
    "    Returns:\n",
    "        xy_pix: a meshgrid of values from [0, 1] of shape\n",
    "                (y_resolution, x_resolution, 2)\n",
    "    \"\"\"\n",
    "    i, j = torch.meshgrid(torch.linspace(0, 1, steps=x_resolution),\n",
    "                          torch.linspace(0, 1, steps=y_resolution))\n",
    "\n",
    "    xy_pix = torch.stack([i.float(), j.float()], dim=-1).permute(1, 0, 2)\n",
    "    return xy_pix"
   ]
  },
  {
   "cell_type": "markdown",
   "metadata": {
    "id": "2NJbOceRMmlK"
   },
   "source": [
    "## Part 2.1: Dataset class for SRN cars\n",
    "\n",
    "We'll have to write a dataset loader for the SRN dataset.\n",
    "\n",
    "What will this dataset have to yield? Just like in the MNIST example above, it will have to yield *images* and *indices of the corresponding car*, so that the auto-decoder knows which latent it should use. Note that now, there are *several images* for *one latent code*, b/c the latent codes are now matched up with the 3D scenes, not with the images!\n",
    "\n",
    "Further, just like in Assignment 2, our dataset will have to yield *camera extrinsic and intrinsic parameters*, as well as *pixel coordinates*.\n",
    "\n",
    "We bundle up all of these things in a single dictionary of the form\n",
    "\n",
    "```python\n",
    "model_input = {'cam2world': c2ws, # (4,4) cam2world camera pose\n",
    "                'intrinsics': intrinsics, # (3,3) camera intrinsics\n",
    "                'x_pix': x_pix, # (H*W, 2) opencv pixel coordinates\n",
    "                'idx': torch.tensor([idx]) # (1) index of the 3D scene, torch integer tensor\n",
    "                }\n",
    "```\n",
    "\n",
    "\n",
    "\n",
    "We wrote most of it for you already, but there's a few blanks we'd like you to fill in in the `__iter__` function:"
   ]
  },
  {
   "cell_type": "code",
   "execution_count": 83,
   "metadata": {
    "id": "qOr_jnHgPdwI"
   },
   "outputs": [],
   "source": [
    "from skimage.transform import resize\n",
    "import imageio.v2 as imageio\n",
    "\n",
    "def parse_rgb(hdf5_dataset):\n",
    "    s = hdf5_dataset[...].tobytes()\n",
    "    f = io.BytesIO(s)\n",
    "\n",
    "    img = imageio.imread(f)[:, :, :3]\n",
    "    img = skimage.img_as_float32(img)\n",
    "    return img\n",
    "\n",
    "\n",
    "def parse_intrinsics(hdf5_dataset):\n",
    "    s = hdf5_dataset[...].tobytes()\n",
    "    s = s.decode('utf-8')\n",
    "\n",
    "    lines = s.split('\\n')\n",
    "    f, cx, cy, _ = map(float, lines[0].split())\n",
    "    full_intrinsic = torch.tensor([[f, 0., cx],\n",
    "                                    [0., f, cy],\n",
    "                                    [0., 0, 1]])\n",
    "\n",
    "    return full_intrinsic\n",
    "\n",
    "\n",
    "def parse_pose(hdf5_dataset):\n",
    "    raw = hdf5_dataset[...]\n",
    "    ba = bytearray(raw)\n",
    "    s = ba.decode('ascii')\n",
    "\n",
    "    lines = s.splitlines()\n",
    "    pose = np.zeros((4, 4), dtype=np.float32)\n",
    "\n",
    "    for i in range(16):\n",
    "        pose[i // 4, i % 4] = lines[0].split(\" \")[i]\n",
    "\n",
    "    pose = torch.from_numpy(pose.squeeze())\n",
    "    return pose\n",
    "\n",
    "\n",
    "class SRNsCars(IterableDataset):\n",
    "    def __init__(self, max_num_instances=None, img_sidelength=None):\n",
    "        self.f = h5py.File('cars_train.hdf5', 'r')\n",
    "        self.instances = sorted(list(self.f.keys()))\n",
    "\n",
    "        self.img_sidelength = img_sidelength\n",
    "\n",
    "        if max_num_instances:\n",
    "            self.instances = self.instances[:max_num_instances]\n",
    "\n",
    "    def __len__(self):\n",
    "        return len(self.instances)\n",
    "\n",
    "    def __iter__(self, override_idx=None):\n",
    "        while True:\n",
    "            if override_idx is not None:\n",
    "                idx = override_idx\n",
    "            else:\n",
    "                idx = random.randint(0, len(self.instances)-1)\n",
    "\n",
    "            key = self.instances[idx]\n",
    "\n",
    "            instance = self.f[key]\n",
    "            rgbs_ds = instance['rgb']\n",
    "            c2ws_ds = instance['pose']\n",
    "\n",
    "            rgb_keys = list(rgbs_ds.keys())\n",
    "            c2w_keys = list(c2ws_ds.keys())\n",
    "\n",
    "            observation_idx = np.random.randint(0, len(rgb_keys))\n",
    "            rgb = parse_rgb( rgbs_ds[rgb_keys[observation_idx]] )\n",
    "\n",
    "            x_pix = get_opencv_pixel_coordinates(*rgb.shape[:2])\n",
    "\n",
    "            # There is a lot of white-space around the cars - we'll thus crop the images a bit:\n",
    "            rgb = rgb[32:-32, 32:-32]\n",
    "            x_pix = x_pix[32:-32, 32:-32]\n",
    "\n",
    "            # Nearest-neighbor downsampling of *both* the\n",
    "            # RGB image and the pixel coordinates. This is better than down-\n",
    "            # sampling RGB only and then generating corresponding pixel coordinates,\n",
    "            # which generates \"fake rays\", i.e., rays that the camera\n",
    "            # didn't actually capture with wrong colors. Instead, this simply picks a\n",
    "            # subset of the \"true\" camera rays.\n",
    "            if self.img_sidelength is not None and rgb.shape[0] != self.img_sidelength:\n",
    "                rgb = resize(rgb,\n",
    "                             (self.img_sidelength, self.img_sidelength),\n",
    "                             anti_aliasing=False,\n",
    "                             order=0)\n",
    "                rgb = torch.from_numpy(rgb)\n",
    "                x_pix = resize(np.array(x_pix),\n",
    "                               (self.img_sidelength, self.img_sidelength),\n",
    "                               anti_aliasing=False,\n",
    "                               order=0)\n",
    "                x_pix = torch.from_numpy(x_pix)\n",
    "\n",
    "\n",
    "            x_pix = rearrange(x_pix, 'i j c -> (i j) c')\n",
    "            c2w = parse_pose( c2ws_ds[c2w_keys[observation_idx]] )\n",
    "\n",
    "            rgb = rearrange(rgb, 'i j c -> (i j) c')\n",
    "\n",
    "            intrinsics = parse_intrinsics( instance['intrinsics.txt'] )\n",
    "            intrinsics[:2, :3] /= 128. # Normalize intrinsics from resolution-specific intrinsics for 128x128\n",
    "\n",
    "            ###\n",
    "            # TODO\n",
    "            # Create a dictionary which contains the following\n",
    "            # 1. the 'cam2world' poses, which we computed as c2w\n",
    "            # 2. the camera 'intrinsics'\n",
    "            # 3. the pixel coordinates, 'x_pix'\n",
    "            # 4. the index of the sampled car, 'idx'\n",
    "            model_input = {\n",
    "                            \"cam2world\":c2w,\n",
    "                            \"intrinsics\":intrinsics,\n",
    "                            \"x_pix\" : x_pix,\n",
    "                            \"idx\" :torch.tensor([idx]),\n",
    "                          }\n",
    "\n",
    "            yield model_input, rgb\n",
    "            # TODO\n",
    "            ###"
   ]
  },
  {
   "cell_type": "markdown",
   "metadata": {
    "id": "1zR3rmt6_H_A"
   },
   "source": [
    "Let's take a look at a single sample:"
   ]
  },
  {
   "cell_type": "code",
   "execution_count": 84,
   "metadata": {
    "id": "Qf_GLzi0_J-5"
   },
   "outputs": [
    {
     "data": {
      "image/png": "[encoded data removed]",
      "text/plain": [
       "<Figure size 640x480 with 1 Axes>"
      ]
     },
     "metadata": {
      "image/png": {
       "height": 413,
       "width": 417
      }
     },
     "output_type": "display_data"
    },
    {
     "name": "stdout",
     "output_type": "stream",
     "text": [
      "Cam2world  tensor([[ 5.2024e-01,  6.5759e-01, -5.4491e-01,  7.0838e-01],\n",
      "        [ 8.5402e-01, -4.0058e-01,  3.3194e-01, -4.3152e-01],\n",
      "        [-8.9407e-08, -6.3805e-01, -7.7000e-01,  1.0010e+00],\n",
      "        [-0.0000e+00,  0.0000e+00, -0.0000e+00,  1.0000e+00]])\n",
      "Intrinsics  tensor([[1.0254, 0.0000, 0.5000],\n",
      "        [0.0000, 1.0254, 0.5000],\n",
      "        [0.0000, 0.0000, 1.0000]])\n",
      "Pixel coords shape torch.Size([1024, 2]) tensor(0.7480)\n",
      "Scene idx torch.Size([1])\n"
     ]
    }
   ],
   "source": [
    "sl = 32\n",
    "dataset = SRNsCars(img_sidelength=sl)\n",
    "mi, rgb = next(iter(dataset))\n",
    "\n",
    "rgb = rgb.view(sl, sl, 3)\n",
    "\n",
    "plt.imshow(rgb)\n",
    "plt.show()\n",
    "\n",
    "print(\"Cam2world \", mi['cam2world'])\n",
    "print(\"Intrinsics \", mi['intrinsics'])\n",
    "print(\"Pixel coords shape\", mi['x_pix'].shape, mi['x_pix'].max())\n",
    "print(\"Scene idx\", mi['idx'].shape)"
   ]
  },
  {
   "cell_type": "markdown",
   "metadata": {
    "id": "zXEY7-FVACuy"
   },
   "source": [
    "***Please make sure that this all makes sense to you.***"
   ]
  },
  {
   "cell_type": "markdown",
   "metadata": {
    "id": "XGdQPWipePYo"
   },
   "source": [
    "## Part 2.2: Latent 3D Grid, Decoder, and Radiance Field\n",
    "\n",
    "We will now write the 3D equivalent of the LatentImgGrid, as well as a Radiance Field that will use that latent voxel grid for rendering."
   ]
  },
  {
   "cell_type": "code",
   "execution_count": 85,
   "metadata": {
    "id": "a20ESjuEeRfD"
   },
   "outputs": [],
   "source": [
    "class LatentHybridVoxelNeuralField(nn.Module):\n",
    "    def __init__(self, feature_dim, out_dim, mode='bilinear'):\n",
    "        super().__init__()\n",
    "        self.mode = mode\n",
    "\n",
    "        ######\n",
    "        # TODO\n",
    "        # Initialize the grid as LatentFeatureGrid with side_length of 1,\n",
    "        # latent dimension as the feature_dim, num_up as 5, and out_ch as out_dim.\n",
    "        # Note that in this case, we will use the mode as '3d' for the grid.\n",
    "\n",
    "        self.grid = LatentFeatureGrid(latent_sidelength=1, latent_ch=feature_dim, num_up=5, out_ch=out_dim, mode=\"3d\" )\n",
    "\n",
    "        # Use nn.Sequential to generate an mlp with 2 layers:\n",
    "        # (1) (linear, leaky_relu) with feature_dim inputs and feature_dim outputs\n",
    "        # (2) (linear) with feature_dim inputs and out_dim outputs\n",
    "        mlp = []\n",
    "        mlp.append(nn.Linear(feature_dim, feature_dim))\n",
    "        mlp.append(nn.LeakyReLU())\n",
    "        mlp.append(nn.Linear(feature_dim, out_dim))\n",
    "        self.mlp = nn.Sequential(*mlp)\n",
    "\n",
    "        # TODO\n",
    "        ######\n",
    "\n",
    "        self.apply(init_weights)\n",
    "\n",
    "    def forward(self, coordinate):\n",
    "        ######\n",
    "        # TODO\n",
    "\n",
    "        bs= coordinate.shape[0]\n",
    "\n",
    "        # Call self.grid to decode latent code into 3D grid.\n",
    "        # Recall that you don't need to pass any input as the decoder is\n",
    "        # evaluated on the latent which is a parameter in the LatentFeatureGrid.\n",
    "        grid = self.grid()\n",
    "\n",
    "        # print(\"Coordinate: \", coordinate.min(), coordinate.max())\n",
    "\n",
    "\n",
    "        # Sample 3D grid at coordinate with grid_sample.\n",
    "        # Remember to add dimensions to make it compatible with grid_sample\n",
    "        coord = coordinate[None, None,:,:]\n",
    "\n",
    "        # TODO\n",
    "        ######\n",
    "\n",
    "        # Grid_sample does not broadcast, so we have to tile the latent grid\n",
    "        # in case we're fitting a single object but have a batch size larger than 1.\n",
    "        if grid.shape[0] != coord.shape[0]:\n",
    "            grid = grid.repeat(coord.shape[0], 1, 1, 1, 1)\n",
    "\n",
    "        ###\n",
    "        # TODO\n",
    "        # Use grid_sample to get the values for the coord in the grid.\n",
    "        # Ensure that you align_corners when using grid_sample.\n",
    "        values = torch.nn.functional.grid_sample(grid, coord,align_corners = True)\n",
    "\n",
    "        # Use squeeze and permute to ensure the shape of values is (B, -1, L)\n",
    "        # where B is the batch size and L is the feature_dim\n",
    "        values = values.reshape(bs,-1,128)\n",
    "\n",
    "        # compute output by evaluating the mlp on the values.\n",
    "        output = self.mlp(values)\n",
    "        return output\n",
    "        # TODO\n",
    "        ######\n",
    "\n",
    "\n",
    "class LatentRadField(nn.Module):\n",
    "    def __init__(self, n_features=128):\n",
    "        super().__init__()\n",
    "\n",
    "        ######\n",
    "        # TODO\n",
    "        # scene_rep is a LatentHybridVoxelNeuralField with n_features as input\n",
    "        # and output feature channels.\n",
    "        self.scene_rep = LatentHybridVoxelNeuralField(n_features, n_features)\n",
    "\n",
    "        # Write a (LeakyReLU, linear, ReLU) MLP \"self.sigma\" that will take as input\n",
    "        # the output of the voxel neural field and output a scalar density. Use\n",
    "        # negative_slope of 0.2 for LeakyReLU.\n",
    "        sigma_mlp = []\n",
    "        sigma_mlp.append(nn.LeakyReLU(0.2))\n",
    "        sigma_mlp.append(nn.Linear(n_features, 1))\n",
    "        sigma_mlp.append(nn.ReLU())\n",
    "        self.sigma = nn.Sequential(*sigma_mlp)\n",
    "\n",
    "        # Write a (LeakyReLU, linear, Sigmoid) MLP \"self.color\" that wll take as input\n",
    "        # the output of the voxel neural field and output a 3 channel density.\n",
    "        # Use negative_slope of 0.2 for LeakyReLU\n",
    "        color_mlp = []\n",
    "        color_mlp.append(nn.LeakyReLU(0.2))\n",
    "        color_mlp.append(nn.Linear(n_features, 3))\n",
    "        color_mlp.append(nn.Sigmoid())\n",
    "        self.radiance = nn.Sequential(*color_mlp)\n",
    "        \n",
    "        #self.radiance = #### YOUR CODE HERE ####\n",
    "\n",
    "        # TODO\n",
    "        ######\n",
    "\n",
    "        self.apply(init_weights)\n",
    "\n",
    "    def forward(\n",
    "        self,\n",
    "        xyz: torch.Tensor) -> Tuple[torch.Tensor, torch.Tensor]:\n",
    "      '''\n",
    "      Queries the representation for the density and color values\n",
    "      '''\n",
    "      ###\n",
    "      # TODO\n",
    "      # Do a forward pass through the scene representation.\n",
    "      features =self.scene_rep(xyz)\n",
    "\n",
    "      # Do a forward pass through both the self.sigma and self.color MLPs\n",
    "      # to yield sigma and color.\n",
    "      sigma = self.sigma(features)\n",
    "      rad = self.radiance(features)\n",
    "\n",
    "      # TODO\n",
    "      ###\n",
    "\n",
    "      # Return sigma and color.\n",
    "      return sigma, rad"
   ]
  },
  {
   "cell_type": "markdown",
   "metadata": {
    "id": "GgNxwcaEd-c2"
   },
   "source": [
    "## Part 2.3: Sanity Check: Overfitting a single SRN car\n",
    "\n",
    "Before we will move on to generalization and prior-based reconstruction, it is always a good idea to reconstruct a single example of your training set to make sure camera poses etc. are all correct.\n",
    "\n",
    "We will further use this code as a starting point to build our generalizable architecture.\n",
    "\n",
    "Below, find a more compact implementation of the differentiable renderer, the voxelgrid scene representation, and the radiance field from assignment 2:"
   ]
  },
  {
   "cell_type": "code",
   "execution_count": 86,
   "metadata": {
    "id": "jb27VNhweAcO"
   },
   "outputs": [],
   "source": [
    "def sample_points_along_rays(\n",
    "    near_depth: float,\n",
    "    far_depth: float,\n",
    "    num_samples: int,\n",
    "    ray_origins: torch.Tensor,\n",
    "    ray_directions: torch.Tensor,\n",
    "    device: torch.device\n",
    "):\n",
    "    # Compute a linspace of num_samples depth values beetween near_depth and far_depth.\n",
    "    z_vals = torch.linspace(near_depth, far_depth, num_samples, device=device)\n",
    "\n",
    "    # Using the ray_origins, ray_directions, generate 3D points along\n",
    "    # the camera rays according to the z_vals.\n",
    "    pts = ray_origins[...,None,:] + ray_directions[...,None,:] * z_vals[...,:,None]\n",
    "\n",
    "    return pts, z_vals\n",
    "\n",
    "\n",
    "def volume_integral(\n",
    "    z_vals: torch.tensor,\n",
    "    sigmas: torch.tensor,\n",
    "    radiances: torch.tensor\n",
    ") -> Tuple[torch.tensor, torch.tensor]:\n",
    "\n",
    "    # Compute the deltas in depth between the points.\n",
    "    dists = torch.cat([\n",
    "        z_vals[..., 1:] - z_vals[..., :-1],\n",
    "        torch.broadcast_to(torch.Tensor([1e10]).to(z_vals.device), z_vals[...,:1].shape)\n",
    "        ], -1)\n",
    "\n",
    "    # Compute the alpha values from the densities and the dists.\n",
    "    # Tip: use torch.einsum for a convenient way of multiplying the correct\n",
    "    # dimensions of the sigmas and the dists.\n",
    "    alpha = 1.- torch.exp(-torch.einsum('brzs, z -> brzs', sigmas, dists))\n",
    "\n",
    "    # Compute the Ts from the alpha values. Use torch.cumprod.\n",
    "    Ts = torch.cumprod(1.-alpha + 1e-10, -2)\n",
    "\n",
    "    # Compute the weights from the Ts and the alphas.\n",
    "    weights = alpha * Ts\n",
    "\n",
    "    # Compute the pixel color as the weighted sum of the radiance values.\n",
    "    rgb = torch.einsum('brzs, brzs -> brs', weights, radiances)\n",
    "\n",
    "    # Compute the depths as the weighted sum of z_vals.\n",
    "    # Tip: use torch.einsum for a convenient way of computing the weighted sum,\n",
    "    # without the need to reshape the z_vals.\n",
    "    depth_map = torch.einsum('brzs, z -> brs', weights, z_vals)\n",
    "\n",
    "    return rgb, depth_map, weights\n",
    "\n",
    "\n",
    "class VolumeRenderer(nn.Module):\n",
    "    def __init__(self, near, far, n_samples=32, white_back=True):\n",
    "        super().__init__()\n",
    "        self.near = near\n",
    "        self.far = far\n",
    "        self.n_samples = n_samples\n",
    "        self.white_back = white_back\n",
    "\n",
    "    def forward(\n",
    "        self,\n",
    "        cam2world,\n",
    "        intrinsics,\n",
    "        x_pix,\n",
    "        radiance_field: nn.Module\n",
    "        ) -> Tuple[torch.tensor, torch.tensor]:\n",
    "        \"\"\"\n",
    "        Takes as inputs ray origins and directions - samples points along the\n",
    "        rays and then calculates the volume rendering integral.\n",
    "\n",
    "        Params:\n",
    "            input_dict: Dictionary with keys 'cam2world', 'intrinsics', and 'x_pix'\n",
    "            radiance_field: nn.Module instance of the radiance field we want to render.\n",
    "\n",
    "        Returns:\n",
    "            Tuple of rgb, depth_map\n",
    "            rgb: for each pixel coordinate x_pix, the color of the respective ray.\n",
    "            depth_map: for each pixel coordinate x_pix, the depth of the respective ray.\n",
    "\n",
    "        \"\"\"\n",
    "        batch_size, num_rays = x_pix.shape[0], x_pix.shape[1]\n",
    "\n",
    "        # Compute the ray directions in world coordinates.\n",
    "        # Use the function get_world_rays.\n",
    "        ros, rds = get_world_rays(x_pix, intrinsics, cam2world)\n",
    "\n",
    "        # Generate the points along rays and their depth values\n",
    "        # Use the function sample_points_along_rays.\n",
    "        pts, z_vals = sample_points_along_rays(self.near, self.far, self.n_samples,\n",
    "                                                ros, rds, device=x_pix.device)\n",
    "\n",
    "        # Reshape pts to (batch_size, -1, 3).\n",
    "        pts = pts.reshape(batch_size, -1, 3)\n",
    "\n",
    "        # Sample the radiance field with the points along the rays.\n",
    "        sigma, rad = radiance_field(pts)\n",
    "\n",
    "        # Reshape sigma and rad back to (batch_size, num_rays, self.n_samples, -1)\n",
    "        sigma = sigma.view(batch_size, num_rays, self.n_samples, 1)\n",
    "        rad = rad.view(batch_size, num_rays, self.n_samples, 3)\n",
    "\n",
    "        # Compute pixel colors, depths, and weights via the volume integral.\n",
    "        rgb, depth_map, weights = volume_integral(z_vals, sigma, rad)\n",
    "\n",
    "        if self.white_back:\n",
    "            accum = weights.sum(dim=-2)\n",
    "            rgb = rgb + (1. - accum)\n",
    "\n",
    "        return rgb, depth_map"
   ]
  },
  {
   "cell_type": "markdown",
   "metadata": {
    "id": "3z8R-MgS9cWx"
   },
   "source": [
    "Last time, we used a different `fit` function to fit our radiance field, because we had separated the renderer and the scene representation.\n",
    "\n",
    "This time, we will instead write a thin wrapper that combines the `RadianceField` and the `VolumeRenderer` in a single `nn.Module` class so that we can just call it with camera parameters to retrieve an image:"
   ]
  },
  {
   "cell_type": "code",
   "execution_count": 87,
   "metadata": {
    "id": "rCFs6Yyz-HND"
   },
   "outputs": [],
   "source": [
    "class RadFieldAndRenderer(nn.Module):\n",
    "    def __init__(self):\n",
    "        super().__init__()\n",
    "        self.rf = LatentRadField(n_features=128)\n",
    "        self.renderer = VolumeRenderer(near=1., far=2.5, n_samples=100,\n",
    "                                       white_back=True).cuda()\n",
    "\n",
    "    def forward(self, model_input):\n",
    "        xy_pix = model_input['x_pix']\n",
    "        intrinsics = model_input['intrinsics']\n",
    "        c2w = model_input['cam2world']\n",
    "\n",
    "        rgb, depth = self.renderer(\n",
    "                              c2w,\n",
    "                              intrinsics,\n",
    "                              xy_pix,\n",
    "                              self.rf\n",
    "                              )\n",
    "        return rgb, depth"
   ]
  },
  {
   "cell_type": "markdown",
   "metadata": {
    "id": "0YtT5CA5-XFb"
   },
   "source": [
    "As a sanity check, we will fit only *one* of the SRNs cars with this architecture. We first need a plotting function again that plots the model output and the ground truth image:"
   ]
  },
  {
   "cell_type": "code",
   "execution_count": 88,
   "metadata": {
    "id": "YA9pGmJc-iu1"
   },
   "outputs": [],
   "source": [
    "def plot_output_ground_truth(model_output, ground_truth, resolution):\n",
    "    img, depth = model_output\n",
    "\n",
    "    img = img[0]\n",
    "    depth = depth[0]\n",
    "    gt = ground_truth[0]\n",
    "\n",
    "    fig, axes = plt.subplots(1, 3, figsize=(18, 6), squeeze=False)\n",
    "    axes[0, 0].imshow(img.cpu().view(*resolution).detach().numpy())\n",
    "    axes[0, 0].set_title(\"Trained MLP\")\n",
    "    axes[0, 1].imshow(gt.cpu().view(*resolution).detach().numpy())\n",
    "    axes[0, 1].set_title(\"Ground Truth\")\n",
    "\n",
    "    depth = depth.cpu().view(*resolution[:2]).detach().numpy()\n",
    "    axes[0, 2].imshow(depth, cmap='Greys')\n",
    "    axes[0, 2].set_title(\"Depth\")\n",
    "\n",
    "    for i in range(3):\n",
    "        axes[0, i].set_axis_off()\n",
    "\n",
    "    plt.show()"
   ]
  },
  {
   "cell_type": "markdown",
   "metadata": {
    "id": "uK43JiXZ-5Nm"
   },
   "source": [
    "We'll instantiate the dataset with only *one* car:"
   ]
  },
  {
   "cell_type": "code",
   "execution_count": 89,
   "metadata": {
    "id": "iZ9zYOCCAVj9"
   },
   "outputs": [],
   "source": [
    "img_sl = 64\n",
    "\n",
    "dataset = SRNsCars(max_num_instances=1, img_sidelength=img_sl)\n",
    "data_loader = torch.utils.data.DataLoader(dataset, batch_size=4)"
   ]
  },
  {
   "cell_type": "markdown",
   "metadata": {
    "id": "eXA-K0J8AbiQ"
   },
   "source": [
    "We'll use a simple mse loss again:"
   ]
  },
  {
   "cell_type": "code",
   "execution_count": 90,
   "metadata": {
    "id": "I3rwtJ1uAdBH"
   },
   "outputs": [],
   "source": [
    "def mse_loss(mlp_out, gt, model):\n",
    "    img, depth = mlp_out\n",
    "    return ((img - gt)**2).mean()"
   ]
  },
  {
   "cell_type": "markdown",
   "metadata": {
    "id": "wW8FTN-eAV79"
   },
   "source": [
    "Let's fit!\n",
    "\n",
    "\n",
    "**Note: Due to the limitations in GPU memory that Google Colab comes with, we have to adjust the following hyper-parameters to save memory: low-resolution voxelgrids, low-resolution images, few samples in the volumetric renderer, and a relatively weak 3D convolutional neural network decoder. If we would run this on a faster & larger GPU, we would get drastically better results!**\n",
    "\n",
    "Note that if you would like, you can either run this notebook locally (on a machine with a better GPU) or pay $10 for the month to get Colab Pro, which gives you access to much faster GPUs."
   ]
  },
  {
   "cell_type": "code",
   "execution_count": 91,
   "metadata": {
    "id": "JrUyikNkgWAa"
   },
   "outputs": [
    {
     "name": "stdout",
     "output_type": "stream",
     "text": [
      "3d\n"
     ]
    }
   ],
   "source": [
    "rf_and_renderer = RadFieldAndRenderer().cuda()\n",
    "optim = torch.optim.Adam(lr=1e-3, params=rf_and_renderer.parameters())"
   ]
  },
  {
   "cell_type": "code",
   "execution_count": 92,
   "metadata": {
    "id": "DReKzkPx-4il"
   },
   "outputs": [
    {
     "name": "stdout",
     "output_type": "stream",
     "text": [
      "Step 0: loss = 0.43616\n"
     ]
    },
    {
     "data": {
      "image/png": "[encoded data removed]",
      "text/plain": [
       "<Figure size 1800x600 with 3 Axes>"
      ]
     },
     "metadata": {
      "image/png": {
       "height": 451,
       "width": 1415
      }
     },
     "output_type": "display_data"
    },
    {
     "ename": "RuntimeError",
     "evalue": "Expected all tensors to be on the same device, but found at least two devices, cpu and cuda:0! (when checking argument for argument mat2 in method wrapper_bmm)",
     "output_type": "error",
     "traceback": [
      "\u001b[0;31m---------------------------------------------------------------------------\u001b[0m",
      "\u001b[0;31mRuntimeError\u001b[0m                              Traceback (most recent call last)",
      "Cell \u001b[0;32mIn[92], line 1\u001b[0m\n\u001b[0;32m----> 1\u001b[0m _ \u001b[38;5;241m=\u001b[39m \u001b[43mfit\u001b[49m\u001b[43m(\u001b[49m\u001b[43mrf_and_renderer\u001b[49m\u001b[43m,\u001b[49m\n\u001b[1;32m      2\u001b[0m \u001b[43m        \u001b[49m\u001b[38;5;28;43miter\u001b[39;49m\u001b[43m(\u001b[49m\u001b[43mdata_loader\u001b[49m\u001b[43m)\u001b[49m\u001b[43m,\u001b[49m\n\u001b[1;32m      3\u001b[0m \u001b[43m        \u001b[49m\u001b[43mloss_fn\u001b[49m\u001b[38;5;241;43m=\u001b[39;49m\u001b[43mmse_loss\u001b[49m\u001b[43m,\u001b[49m\n\u001b[1;32m      4\u001b[0m \u001b[43m        \u001b[49m\u001b[43mresolution\u001b[49m\u001b[38;5;241;43m=\u001b[39;49m\u001b[43m(\u001b[49m\u001b[43mimg_sl\u001b[49m\u001b[43m,\u001b[49m\u001b[43m \u001b[49m\u001b[43mimg_sl\u001b[49m\u001b[43m,\u001b[49m\u001b[43m \u001b[49m\u001b[38;5;241;43m3\u001b[39;49m\u001b[43m)\u001b[49m\u001b[43m,\u001b[49m\n\u001b[1;32m      5\u001b[0m \u001b[43m        \u001b[49m\u001b[43mplotting_function\u001b[49m\u001b[38;5;241;43m=\u001b[39;49m\u001b[43mplot_output_ground_truth\u001b[49m\u001b[43m,\u001b[49m\n\u001b[1;32m      6\u001b[0m \u001b[43m        \u001b[49m\u001b[43moptimizer\u001b[49m\u001b[38;5;241;43m=\u001b[39;49m\u001b[43moptim\u001b[49m\u001b[43m,\u001b[49m\n\u001b[1;32m      7\u001b[0m \u001b[43m        \u001b[49m\u001b[43mtotal_steps\u001b[49m\u001b[38;5;241;43m=\u001b[39;49m\u001b[38;5;241;43m1_001\u001b[39;49m\u001b[43m,\u001b[49m\n\u001b[1;32m      8\u001b[0m \u001b[43m        \u001b[49m\u001b[43msteps_til_summary\u001b[49m\u001b[38;5;241;43m=\u001b[39;49m\u001b[38;5;241;43m100\u001b[39;49m\n\u001b[1;32m      9\u001b[0m \u001b[43m        \u001b[49m\u001b[43m)\u001b[49m\n",
      "Cell \u001b[0;32mIn[7], line 37\u001b[0m, in \u001b[0;36mfit\u001b[0;34m(model, data_iterator, loss_fn, resolution, optimizer, plotting_function, steps_til_summary, total_steps)\u001b[0m\n\u001b[1;32m     34\u001b[0m model_input, ground_truth \u001b[38;5;241m=\u001b[39m to_gpu(model_input), to_gpu(ground_truth)\n\u001b[1;32m     36\u001b[0m \u001b[38;5;66;03m# Compute the MLP output for the given input data and compute the loss\u001b[39;00m\n\u001b[0;32m---> 37\u001b[0m model_output \u001b[38;5;241m=\u001b[39m \u001b[43mmodel\u001b[49m\u001b[43m(\u001b[49m\u001b[43mmodel_input\u001b[49m\u001b[43m)\u001b[49m\n\u001b[1;32m     39\u001b[0m \u001b[38;5;66;03m# Implement a simple mean-squared-error loss between the\u001b[39;00m\n\u001b[1;32m     40\u001b[0m loss \u001b[38;5;241m=\u001b[39m loss_fn(model_output, ground_truth, model) \u001b[38;5;66;03m# Note: loss now takes \"model\" as input.\u001b[39;00m\n",
      "File \u001b[0;32m/media/ubuntu/Data/tools/anaconda3/envs/mlig/lib/python3.9/site-packages/torch/nn/modules/module.py:1130\u001b[0m, in \u001b[0;36mModule._call_impl\u001b[0;34m(self, *input, **kwargs)\u001b[0m\n\u001b[1;32m   1126\u001b[0m \u001b[38;5;66;03m# If we don't have any hooks, we want to skip the rest of the logic in\u001b[39;00m\n\u001b[1;32m   1127\u001b[0m \u001b[38;5;66;03m# this function, and just call forward.\u001b[39;00m\n\u001b[1;32m   1128\u001b[0m \u001b[38;5;28;01mif\u001b[39;00m \u001b[38;5;129;01mnot\u001b[39;00m (\u001b[38;5;28mself\u001b[39m\u001b[38;5;241m.\u001b[39m_backward_hooks \u001b[38;5;129;01mor\u001b[39;00m \u001b[38;5;28mself\u001b[39m\u001b[38;5;241m.\u001b[39m_forward_hooks \u001b[38;5;129;01mor\u001b[39;00m \u001b[38;5;28mself\u001b[39m\u001b[38;5;241m.\u001b[39m_forward_pre_hooks \u001b[38;5;129;01mor\u001b[39;00m _global_backward_hooks\n\u001b[1;32m   1129\u001b[0m         \u001b[38;5;129;01mor\u001b[39;00m _global_forward_hooks \u001b[38;5;129;01mor\u001b[39;00m _global_forward_pre_hooks):\n\u001b[0;32m-> 1130\u001b[0m     \u001b[38;5;28;01mreturn\u001b[39;00m \u001b[43mforward_call\u001b[49m\u001b[43m(\u001b[49m\u001b[38;5;241;43m*\u001b[39;49m\u001b[38;5;28;43minput\u001b[39;49m\u001b[43m,\u001b[49m\u001b[43m \u001b[49m\u001b[38;5;241;43m*\u001b[39;49m\u001b[38;5;241;43m*\u001b[39;49m\u001b[43mkwargs\u001b[49m\u001b[43m)\u001b[49m\n\u001b[1;32m   1131\u001b[0m \u001b[38;5;66;03m# Do not call functions when jit is used\u001b[39;00m\n\u001b[1;32m   1132\u001b[0m full_backward_hooks, non_full_backward_hooks \u001b[38;5;241m=\u001b[39m [], []\n",
      "Cell \u001b[0;32mIn[87], line 13\u001b[0m, in \u001b[0;36mRadFieldAndRenderer.forward\u001b[0;34m(self, model_input)\u001b[0m\n\u001b[1;32m     10\u001b[0m intrinsics \u001b[38;5;241m=\u001b[39m model_input[\u001b[38;5;124m'\u001b[39m\u001b[38;5;124mintrinsics\u001b[39m\u001b[38;5;124m'\u001b[39m]\n\u001b[1;32m     11\u001b[0m c2w \u001b[38;5;241m=\u001b[39m model_input[\u001b[38;5;124m'\u001b[39m\u001b[38;5;124mcam2world\u001b[39m\u001b[38;5;124m'\u001b[39m]\n\u001b[0;32m---> 13\u001b[0m rgb, depth \u001b[38;5;241m=\u001b[39m \u001b[38;5;28;43mself\u001b[39;49m\u001b[38;5;241;43m.\u001b[39;49m\u001b[43mrenderer\u001b[49m\u001b[43m(\u001b[49m\n\u001b[1;32m     14\u001b[0m \u001b[43m                      \u001b[49m\u001b[43mc2w\u001b[49m\u001b[43m,\u001b[49m\n\u001b[1;32m     15\u001b[0m \u001b[43m                      \u001b[49m\u001b[43mintrinsics\u001b[49m\u001b[43m,\u001b[49m\n\u001b[1;32m     16\u001b[0m \u001b[43m                      \u001b[49m\u001b[43mxy_pix\u001b[49m\u001b[43m,\u001b[49m\n\u001b[1;32m     17\u001b[0m \u001b[43m                      \u001b[49m\u001b[38;5;28;43mself\u001b[39;49m\u001b[38;5;241;43m.\u001b[39;49m\u001b[43mrf\u001b[49m\n\u001b[1;32m     18\u001b[0m \u001b[43m                      \u001b[49m\u001b[43m)\u001b[49m\n\u001b[1;32m     19\u001b[0m \u001b[38;5;28;01mreturn\u001b[39;00m rgb, depth\n",
      "File \u001b[0;32m/media/ubuntu/Data/tools/anaconda3/envs/mlig/lib/python3.9/site-packages/torch/nn/modules/module.py:1130\u001b[0m, in \u001b[0;36mModule._call_impl\u001b[0;34m(self, *input, **kwargs)\u001b[0m\n\u001b[1;32m   1126\u001b[0m \u001b[38;5;66;03m# If we don't have any hooks, we want to skip the rest of the logic in\u001b[39;00m\n\u001b[1;32m   1127\u001b[0m \u001b[38;5;66;03m# this function, and just call forward.\u001b[39;00m\n\u001b[1;32m   1128\u001b[0m \u001b[38;5;28;01mif\u001b[39;00m \u001b[38;5;129;01mnot\u001b[39;00m (\u001b[38;5;28mself\u001b[39m\u001b[38;5;241m.\u001b[39m_backward_hooks \u001b[38;5;129;01mor\u001b[39;00m \u001b[38;5;28mself\u001b[39m\u001b[38;5;241m.\u001b[39m_forward_hooks \u001b[38;5;129;01mor\u001b[39;00m \u001b[38;5;28mself\u001b[39m\u001b[38;5;241m.\u001b[39m_forward_pre_hooks \u001b[38;5;129;01mor\u001b[39;00m _global_backward_hooks\n\u001b[1;32m   1129\u001b[0m         \u001b[38;5;129;01mor\u001b[39;00m _global_forward_hooks \u001b[38;5;129;01mor\u001b[39;00m _global_forward_pre_hooks):\n\u001b[0;32m-> 1130\u001b[0m     \u001b[38;5;28;01mreturn\u001b[39;00m \u001b[43mforward_call\u001b[49m\u001b[43m(\u001b[49m\u001b[38;5;241;43m*\u001b[39;49m\u001b[38;5;28;43minput\u001b[39;49m\u001b[43m,\u001b[49m\u001b[43m \u001b[49m\u001b[38;5;241;43m*\u001b[39;49m\u001b[38;5;241;43m*\u001b[39;49m\u001b[43mkwargs\u001b[49m\u001b[43m)\u001b[49m\n\u001b[1;32m   1131\u001b[0m \u001b[38;5;66;03m# Do not call functions when jit is used\u001b[39;00m\n\u001b[1;32m   1132\u001b[0m full_backward_hooks, non_full_backward_hooks \u001b[38;5;241m=\u001b[39m [], []\n",
      "Cell \u001b[0;32mIn[86], line 86\u001b[0m, in \u001b[0;36mVolumeRenderer.forward\u001b[0;34m(self, cam2world, intrinsics, x_pix, radiance_field)\u001b[0m\n\u001b[1;32m     82\u001b[0m batch_size, num_rays \u001b[38;5;241m=\u001b[39m x_pix\u001b[38;5;241m.\u001b[39mshape[\u001b[38;5;241m0\u001b[39m], x_pix\u001b[38;5;241m.\u001b[39mshape[\u001b[38;5;241m1\u001b[39m]\n\u001b[1;32m     84\u001b[0m \u001b[38;5;66;03m# Compute the ray directions in world coordinates.\u001b[39;00m\n\u001b[1;32m     85\u001b[0m \u001b[38;5;66;03m# Use the function get_world_rays.\u001b[39;00m\n\u001b[0;32m---> 86\u001b[0m ros, rds \u001b[38;5;241m=\u001b[39m \u001b[43mget_world_rays\u001b[49m\u001b[43m(\u001b[49m\u001b[43mx_pix\u001b[49m\u001b[43m,\u001b[49m\u001b[43m \u001b[49m\u001b[43mintrinsics\u001b[49m\u001b[43m,\u001b[49m\u001b[43m \u001b[49m\u001b[43mcam2world\u001b[49m\u001b[43m)\u001b[49m\n\u001b[1;32m     88\u001b[0m \u001b[38;5;66;03m# Generate the points along rays and their depth values\u001b[39;00m\n\u001b[1;32m     89\u001b[0m \u001b[38;5;66;03m# Use the function sample_points_along_rays.\u001b[39;00m\n\u001b[1;32m     90\u001b[0m pts, z_vals \u001b[38;5;241m=\u001b[39m sample_points_along_rays(\u001b[38;5;28mself\u001b[39m\u001b[38;5;241m.\u001b[39mnear, \u001b[38;5;28mself\u001b[39m\u001b[38;5;241m.\u001b[39mfar, \u001b[38;5;28mself\u001b[39m\u001b[38;5;241m.\u001b[39mn_samples,\n\u001b[1;32m     91\u001b[0m                                         ros, rds, device\u001b[38;5;241m=\u001b[39mx_pix\u001b[38;5;241m.\u001b[39mdevice)\n",
      "Cell \u001b[0;32mIn[82], line 108\u001b[0m, in \u001b[0;36mget_world_rays\u001b[0;34m(xy_pix, intrinsics, cam2world)\u001b[0m\n\u001b[1;32m    105\u001b[0m rd_cam_hom \u001b[38;5;241m=\u001b[39m homogenize_vecs(ray_dirs_cam)\n\u001b[1;32m    107\u001b[0m \u001b[38;5;66;03m# Transform ray directions to world coordinates\u001b[39;00m\n\u001b[0;32m--> 108\u001b[0m rd_world_hom \u001b[38;5;241m=\u001b[39m \u001b[43mtransform_cam2world\u001b[49m\u001b[43m(\u001b[49m\u001b[43mrd_cam_hom\u001b[49m\u001b[43m,\u001b[49m\u001b[43m \u001b[49m\u001b[43mcam2world\u001b[49m\u001b[43m)\u001b[49m\n\u001b[1;32m    110\u001b[0m \u001b[38;5;66;03m# Tile the ray origins to have the same shape as the ray directions.\u001b[39;00m\n\u001b[1;32m    111\u001b[0m \u001b[38;5;66;03m# Currently, ray origins have shape (batch, 3), while ray directions have shape\u001b[39;00m\n\u001b[1;32m    112\u001b[0m cam_origin_world \u001b[38;5;241m=\u001b[39m repeat(cam_origin_world, \u001b[38;5;124m'\u001b[39m\u001b[38;5;124mb ch -> b num_rays ch\u001b[39m\u001b[38;5;124m'\u001b[39m, num_rays\u001b[38;5;241m=\u001b[39mray_dirs_cam\u001b[38;5;241m.\u001b[39mshape[\u001b[38;5;241m1\u001b[39m])\n",
      "Cell \u001b[0;32mIn[82], line 73\u001b[0m, in \u001b[0;36mtransform_cam2world\u001b[0;34m(xyz_cam_hom, cam2world)\u001b[0m\n\u001b[1;32m     63\u001b[0m \u001b[38;5;28;01mdef\u001b[39;00m \u001b[38;5;21mtransform_cam2world\u001b[39m(xyz_cam_hom: torch\u001b[38;5;241m.\u001b[39mTensor, cam2world: torch\u001b[38;5;241m.\u001b[39mTensor) \u001b[38;5;241m-\u001b[39m\u001b[38;5;241m>\u001b[39m torch\u001b[38;5;241m.\u001b[39mTensor:\n\u001b[1;32m     64\u001b[0m \u001b[38;5;250m    \u001b[39m\u001b[38;5;124;03m\"\"\"Transforms points from 3D world coordinates to 3D camera coordinates.\u001b[39;00m\n\u001b[1;32m     65\u001b[0m \n\u001b[1;32m     66\u001b[0m \u001b[38;5;124;03m    Args:\u001b[39;00m\n\u001b[0;32m   (...)\u001b[0m\n\u001b[1;32m     71\u001b[0m \u001b[38;5;124;03m        xyz_world: points in camera coordinates.\u001b[39;00m\n\u001b[1;32m     72\u001b[0m \u001b[38;5;124;03m    \"\"\"\u001b[39;00m\n\u001b[0;32m---> 73\u001b[0m     \u001b[38;5;28;01mreturn\u001b[39;00m \u001b[43mtransform_rigid\u001b[49m\u001b[43m(\u001b[49m\u001b[43mxyz_cam_hom\u001b[49m\u001b[43m,\u001b[49m\u001b[43m \u001b[49m\u001b[43mcam2world\u001b[49m\u001b[43m)\u001b[49m\n",
      "Cell \u001b[0;32mIn[82], line 86\u001b[0m, in \u001b[0;36mtransform_rigid\u001b[0;34m(xyz_hom, T)\u001b[0m\n\u001b[1;32m     76\u001b[0m \u001b[38;5;28;01mdef\u001b[39;00m \u001b[38;5;21mtransform_rigid\u001b[39m(xyz_hom: torch\u001b[38;5;241m.\u001b[39mTensor, T: torch\u001b[38;5;241m.\u001b[39mTensor) \u001b[38;5;241m-\u001b[39m\u001b[38;5;241m>\u001b[39m torch\u001b[38;5;241m.\u001b[39mTensor:\n\u001b[1;32m     77\u001b[0m \u001b[38;5;250m    \u001b[39m\u001b[38;5;124;03m\"\"\"Apply a rigid-body transform to a (batch of) points / vectors.\u001b[39;00m\n\u001b[1;32m     78\u001b[0m \n\u001b[1;32m     79\u001b[0m \u001b[38;5;124;03m    Args:\u001b[39;00m\n\u001b[0;32m   (...)\u001b[0m\n\u001b[1;32m     84\u001b[0m \u001b[38;5;124;03m        xyz_trans: transformed points.\u001b[39;00m\n\u001b[1;32m     85\u001b[0m \u001b[38;5;124;03m    \"\"\"\u001b[39;00m\n\u001b[0;32m---> 86\u001b[0m     \u001b[38;5;28;01mreturn\u001b[39;00m \u001b[43mtorch\u001b[49m\u001b[38;5;241;43m.\u001b[39;49m\u001b[43meinsum\u001b[49m\u001b[43m(\u001b[49m\u001b[38;5;124;43m'\u001b[39;49m\u001b[38;5;124;43m...ij,...kj->...ki\u001b[39;49m\u001b[38;5;124;43m'\u001b[39;49m\u001b[43m,\u001b[49m\u001b[43m \u001b[49m\u001b[43mT\u001b[49m\u001b[43m,\u001b[49m\u001b[43m \u001b[49m\u001b[43mxyz_hom\u001b[49m\u001b[43m)\u001b[49m\n",
      "File \u001b[0;32m/media/ubuntu/Data/tools/anaconda3/envs/mlig/lib/python3.9/site-packages/torch/functional.py:360\u001b[0m, in \u001b[0;36meinsum\u001b[0;34m(*args)\u001b[0m\n\u001b[1;32m    356\u001b[0m     \u001b[38;5;66;03m# recurse incase operands contains value that has torch function\u001b[39;00m\n\u001b[1;32m    357\u001b[0m     \u001b[38;5;66;03m# in the original implementation this line is omitted\u001b[39;00m\n\u001b[1;32m    358\u001b[0m     \u001b[38;5;28;01mreturn\u001b[39;00m einsum(equation, \u001b[38;5;241m*\u001b[39m_operands)\n\u001b[0;32m--> 360\u001b[0m \u001b[38;5;28;01mreturn\u001b[39;00m \u001b[43m_VF\u001b[49m\u001b[38;5;241;43m.\u001b[39;49m\u001b[43meinsum\u001b[49m\u001b[43m(\u001b[49m\u001b[43mequation\u001b[49m\u001b[43m,\u001b[49m\u001b[43m \u001b[49m\u001b[43moperands\u001b[49m\u001b[43m)\u001b[49m\n",
      "\u001b[0;31mRuntimeError\u001b[0m: Expected all tensors to be on the same device, but found at least two devices, cpu and cuda:0! (when checking argument for argument mat2 in method wrapper_bmm)"
     ]
    }
   ],
   "source": [
    "_ = fit(rf_and_renderer,\n",
    "        iter(data_loader),\n",
    "        loss_fn=mse_loss,\n",
    "        resolution=(img_sl, img_sl, 3),\n",
    "        plotting_function=plot_output_ground_truth,\n",
    "        optimizer=optim,\n",
    "        total_steps=1_001,\n",
    "        steps_til_summary=100\n",
    "        )"
   ]
  },
  {
   "cell_type": "markdown",
   "metadata": {
    "id": "emxjxq1DNpIM"
   },
   "source": [
    "You should be able to recognize the car after ~1k steps. Note that this reconstrution is likely far from perfect due to our memory and compute constraints. Your output quality would most likely look like this:\n",
    "\n",
    "<div>\n",
    "<img src=\"https://drive.google.com/uc?id=1-eVNtUydv72qpbQYnVXc8APGgsfYJ9x9\" width=\"200\"/>\n",
    "</div>\n",
    "\n",
    "Note that just like with the `LatentFeatureGrid` from above that we used to overfit on a single image, this only fits a *single* latent voxel grid for a *single* 3D car. But what if, instead, we want to learn a *latent space* of these cars?"
   ]
  },
  {
   "cell_type": "code",
   "execution_count": 93,
   "metadata": {
    "id": "8jc2Ow4vgSaR"
   },
   "outputs": [],
   "source": [
    "del rf_and_renderer"
   ]
  },
  {
   "cell_type": "markdown",
   "metadata": {
    "id": "1xB1-2FU3dK0"
   },
   "source": [
    "## Part 2.4: Writing a torch class for turning single-sample models into auto-decoders\n",
    "\n",
    "Next, we will extend the voxelgrid-conditioned radiance field from the previous assignment to an auto-decoder.\n",
    "\n",
    "For that, we will have to convert the class `RadFieldAndRenderer` into an auto-decoder. What we would like to do is to turn the `self.grid` parameter of the `HyrbidVoxelNeuralField` into an `nn.Embedding` again, so that we can store a *stack* of voxelgrids. Or, we might even consider having these voxelgrids be the output of a convolutional decoder, such that we compress each voxelgrids into a *single* latent.\n",
    "\n",
    "Alas, in the current framework, that would be hard to do, as these classes are nested: the `RadianceField` owns the `HyrbidGroundPlanNeuralField` class which in turn manages the `self.grid` parameter. If we would turn that into an embedding, we would have to modify all the `forward` passes to take an additional `index` parameter, and write a bunch of new code, which might introduce new bugs...\n",
    "\n",
    "It turns out there is an easier way. Pytorch has recently introduced a handy little function called `functional_call` - read through the documentation [here](https://pytorch.org/docs/stable/generated/torch.nn.utils.stateless.functional_call.html). This function allows us to call a module's forward pass, as we normally would, *but also pass in a dictionary that maps the name of a parameter to an alternative value that we would like the module to use*!\n",
    "\n",
    "Let's take a look. We will instantiate a new `LatentFeatureGrid` as in part 1:"
   ]
  },
  {
   "cell_type": "code",
   "execution_count": 94,
   "metadata": {
    "id": "Pflg8OB25VCF"
   },
   "outputs": [
    {
     "name": "stdout",
     "output_type": "stream",
     "text": [
      "2d\n"
     ]
    }
   ],
   "source": [
    "lfg = LatentFeatureGrid(latent_sidelength=1, latent_ch=128, num_up=5, out_ch=3).cuda()"
   ]
  },
  {
   "cell_type": "markdown",
   "metadata": {
    "id": "sWJ-kW3L5gH0"
   },
   "source": [
    "Let's take a look at its parameters:"
   ]
  },
  {
   "cell_type": "code",
   "execution_count": 95,
   "metadata": {
    "id": "SXPjAVYW5h5Y"
   },
   "outputs": [
    {
     "name": "stdout",
     "output_type": "stream",
     "text": [
      "latent_grid: (1, 128, 1, 1)\n",
      "decoder.in_conv.0.weight: (128, 128, 3, 3)\n",
      "decoder.in_conv.0.bias: (128,)\n",
      "decoder.hidden_conv.1.weight: (130, 128, 3, 3)\n",
      "decoder.hidden_conv.1.bias: (128,)\n",
      "decoder.hidden_conv.4.weight: (130, 128, 3, 3)\n",
      "decoder.hidden_conv.4.bias: (128,)\n",
      "decoder.hidden_conv.7.weight: (130, 128, 3, 3)\n",
      "decoder.hidden_conv.7.bias: (128,)\n",
      "decoder.hidden_conv.10.weight: (130, 128, 3, 3)\n",
      "decoder.hidden_conv.10.bias: (128,)\n",
      "decoder.hidden_conv.13.weight: (130, 128, 3, 3)\n",
      "decoder.hidden_conv.13.bias: (128,)\n",
      "decoder.out_conv.weight: (3, 128, 3, 3)\n",
      "decoder.out_conv.bias: (3,)\n"
     ]
    }
   ],
   "source": [
    "def print_params(module):\n",
    "    for name, param in module.named_parameters():\n",
    "        print(f\"{name}: {tuple(param.shape)}\")\n",
    "\n",
    "print_params(lfg)"
   ]
  },
  {
   "cell_type": "markdown",
   "metadata": {
    "id": "Rv8fe1T65mHv"
   },
   "source": [
    "`functional_call` now allows us to assemble a dictionary with *alternative parameters* that this module should use in a forward pass!\n",
    "\n",
    "For instance, we can assemble a dictionary with an *alternative* latent_grid:"
   ]
  },
  {
   "cell_type": "code",
   "execution_count": 96,
   "metadata": {
    "id": "H7eLmFV25zJZ"
   },
   "outputs": [],
   "source": [
    "params = {'latent_grid':torch.rand(1, 128, 1, 1).cuda()}"
   ]
  },
  {
   "cell_type": "markdown",
   "metadata": {
    "id": "4wYQr_-B547c"
   },
   "source": [
    "By simply passing this as the second parameter to `functional_call`, we can force the `LatentGrid` module to use that latent grid instead of its own in its forward pass:"
   ]
  },
  {
   "cell_type": "code",
   "execution_count": 97,
   "metadata": {
    "id": "l3GEC2Ps5HwF"
   },
   "outputs": [],
   "source": [
    "from torch.nn.utils.stateless import functional_call\n",
    "_ = functional_call(lfg, params, None)"
   ]
  },
  {
   "cell_type": "markdown",
   "metadata": {
    "id": "eH6BCkFT6GD0"
   },
   "source": [
    "How does that help? It allows us to write a simple wrapper that turns *any* Pytorch Module into an autodecoder! We wrote this one for you, but please do take a look, because you will need it in a second:"
   ]
  },
  {
   "cell_type": "code",
   "execution_count": 106,
   "metadata": {
    "id": "ofJj58YV6VKs"
   },
   "outputs": [],
   "source": [
    "class AutoDecoderWrapper(nn.Module):\n",
    "    def __init__(\n",
    "        self,\n",
    "        num_latents:int, # Number of latent codes for the auto-decoder.\n",
    "        submodule:nn.Module, # nn.Module instance we want to turn into an auto-decoder.\n",
    "        param_name:str # Name of the parameter of the nn.Module that we want to replace with the auto-decoded latents.\n",
    "    ):\n",
    "        super().__init__()\n",
    "        trgt_param = dict(submodule.named_parameters())[param_name]\n",
    "        self.trgt_param_shape = trgt_param.shape[1:]\n",
    "\n",
    "        # nn.Embedding is like a \"list\" of parameters: In the forward pass,\n",
    "        # you can pass a tensor of indices, and this will return the corresponding\n",
    "        # latent.\n",
    "        self.latents = nn.Embedding(num_embeddings=num_latents,\n",
    "                                    embedding_dim=np.prod(self.trgt_param_shape))\n",
    "        self.latents.weight.data.normal_(0, 1e-1)\n",
    "\n",
    "        self.param_name = param_name\n",
    "        self.submodule = submodule\n",
    "\n",
    "    def forward(self,\n",
    "                inputs):\n",
    "        '''\n",
    "        inputs: dictionary. Expected to have key \"idx\" for the latent idcs, as well as other inputs for the sub-module.\n",
    "        '''\n",
    "\n",
    "        #######\n",
    "        # TODO\n",
    "\n",
    "        # Retrieve the dictionary entry \"idx\" from the input dictionary\n",
    "        latent_idcs = inputs[\"idx\"]\n",
    "\n",
    "        batch_size = latent_idcs.shape[0]\n",
    "\n",
    "        # Use the \"idx\" variable to index into the self.latents nn.Embedding module\n",
    "        # and reshape it as (batch_size, target_param_shape[0], ..., target_param_shape[-1])\n",
    "        params = self.latents(latent_idcs).reshape(batch_size,self.trgt_param_shape[0], self.trgt_param_shape[1],self.trgt_param_shape[2] )\n",
    "\n",
    "        # Build a parameter dictionary where self.param_name key holds param as value.\n",
    "        param_dict = {\n",
    "                        self.param_name:params\n",
    "                    }\n",
    "\n",
    "        # call functional_call using the submodule which is the network, the\n",
    "        # param_dict, and the inputs as arguments,\n",
    "        output = functional_call(self.submodule, param_dict, inputs)\n",
    "\n",
    "        # TODO\n",
    "        #######\n",
    "\n",
    "        # return the output of the functional call and params\n",
    "        return output, params"
   ]
  },
  {
   "cell_type": "markdown",
   "metadata": {
    "id": "qfSDXgrZ6X4S"
   },
   "source": [
    "Now, we can use this wrapper to turn `LatentFeatureGrid` into an auto-decoder *without re-writing any of it*. Let's see how that works:"
   ]
  },
  {
   "cell_type": "code",
   "execution_count": 107,
   "metadata": {
    "id": "D4f5ria27ARH"
   },
   "outputs": [
    {
     "name": "stdout",
     "output_type": "stream",
     "text": [
      "2d\n"
     ]
    }
   ],
   "source": [
    "lfg = LatentFeatureGrid(latent_sidelength=1, latent_ch=128, num_up=5, out_ch=3)\n",
    "lfg_ad = AutoDecoderWrapper(10_000,\n",
    "                            lfg,\n",
    "                            param_name='latent_grid')"
   ]
  },
  {
   "cell_type": "markdown",
   "metadata": {
    "id": "qwpLGlD67Jg6"
   },
   "source": [
    "The object `lfg_ad` is now an auto-decoder - that means that we can pass it a tensor of integers, it will retrieve the corresponding latent feature grids, and call the object `lfg`, an instance of `LatentFeatureGrid`, with these feature grids:"
   ]
  },
  {
   "cell_type": "code",
   "execution_count": 108,
   "metadata": {
    "id": "2JwMwuIx7ZdK"
   },
   "outputs": [
    {
     "ename": "TypeError",
     "evalue": "reshape(): argument 'shape' must be tuple of ints, but found element of type ellipsis at pos 3",
     "output_type": "error",
     "traceback": [
      "\u001b[0;31m---------------------------------------------------------------------------\u001b[0m",
      "\u001b[0;31mTypeError\u001b[0m                                 Traceback (most recent call last)",
      "Cell \u001b[0;32mIn[108], line 2\u001b[0m\n\u001b[1;32m      1\u001b[0m test_idcs \u001b[38;5;241m=\u001b[39m torch\u001b[38;5;241m.\u001b[39mrandint(\u001b[38;5;241m0\u001b[39m, \u001b[38;5;241m100\u001b[39m, size\u001b[38;5;241m=\u001b[39m(\u001b[38;5;241m100\u001b[39m, \u001b[38;5;241m1\u001b[39m))\n\u001b[0;32m----> 2\u001b[0m _ \u001b[38;5;241m=\u001b[39m \u001b[43mlfg_ad\u001b[49m\u001b[43m(\u001b[49m\u001b[43m{\u001b[49m\u001b[38;5;124;43m\"\u001b[39;49m\u001b[38;5;124;43midx\u001b[39;49m\u001b[38;5;124;43m\"\u001b[39;49m\u001b[43m:\u001b[49m\u001b[43mtorch\u001b[49m\u001b[38;5;241;43m.\u001b[39;49m\u001b[43mtensor\u001b[49m\u001b[43m(\u001b[49m\u001b[43m[\u001b[49m\u001b[38;5;241;43m0\u001b[39;49m\u001b[43m]\u001b[49m\u001b[43m)\u001b[49m\u001b[43m}\u001b[49m\u001b[43m)\u001b[49m\n",
      "File \u001b[0;32m/media/ubuntu/Data/tools/anaconda3/envs/mlig/lib/python3.9/site-packages/torch/nn/modules/module.py:1130\u001b[0m, in \u001b[0;36mModule._call_impl\u001b[0;34m(self, *input, **kwargs)\u001b[0m\n\u001b[1;32m   1126\u001b[0m \u001b[38;5;66;03m# If we don't have any hooks, we want to skip the rest of the logic in\u001b[39;00m\n\u001b[1;32m   1127\u001b[0m \u001b[38;5;66;03m# this function, and just call forward.\u001b[39;00m\n\u001b[1;32m   1128\u001b[0m \u001b[38;5;28;01mif\u001b[39;00m \u001b[38;5;129;01mnot\u001b[39;00m (\u001b[38;5;28mself\u001b[39m\u001b[38;5;241m.\u001b[39m_backward_hooks \u001b[38;5;129;01mor\u001b[39;00m \u001b[38;5;28mself\u001b[39m\u001b[38;5;241m.\u001b[39m_forward_hooks \u001b[38;5;129;01mor\u001b[39;00m \u001b[38;5;28mself\u001b[39m\u001b[38;5;241m.\u001b[39m_forward_pre_hooks \u001b[38;5;129;01mor\u001b[39;00m _global_backward_hooks\n\u001b[1;32m   1129\u001b[0m         \u001b[38;5;129;01mor\u001b[39;00m _global_forward_hooks \u001b[38;5;129;01mor\u001b[39;00m _global_forward_pre_hooks):\n\u001b[0;32m-> 1130\u001b[0m     \u001b[38;5;28;01mreturn\u001b[39;00m \u001b[43mforward_call\u001b[49m\u001b[43m(\u001b[49m\u001b[38;5;241;43m*\u001b[39;49m\u001b[38;5;28;43minput\u001b[39;49m\u001b[43m,\u001b[49m\u001b[43m \u001b[49m\u001b[38;5;241;43m*\u001b[39;49m\u001b[38;5;241;43m*\u001b[39;49m\u001b[43mkwargs\u001b[49m\u001b[43m)\u001b[49m\n\u001b[1;32m   1131\u001b[0m \u001b[38;5;66;03m# Do not call functions when jit is used\u001b[39;00m\n\u001b[1;32m   1132\u001b[0m full_backward_hooks, non_full_backward_hooks \u001b[38;5;241m=\u001b[39m [], []\n",
      "Cell \u001b[0;32mIn[106], line 38\u001b[0m, in \u001b[0;36mAutoDecoderWrapper.forward\u001b[0;34m(self, inputs)\u001b[0m\n\u001b[1;32m     34\u001b[0m batch_size \u001b[38;5;241m=\u001b[39m latent_idcs\u001b[38;5;241m.\u001b[39mshape[\u001b[38;5;241m0\u001b[39m]\n\u001b[1;32m     36\u001b[0m \u001b[38;5;66;03m# Use the \"idx\" variable to index into the self.latents nn.Embedding module\u001b[39;00m\n\u001b[1;32m     37\u001b[0m \u001b[38;5;66;03m# and reshape it as (batch_size, target_param_shape[0], ..., target_param_shape[-1])\u001b[39;00m\n\u001b[0;32m---> 38\u001b[0m params \u001b[38;5;241m=\u001b[39m \u001b[38;5;28;43mself\u001b[39;49m\u001b[38;5;241;43m.\u001b[39;49m\u001b[43mlatents\u001b[49m\u001b[43m(\u001b[49m\u001b[43mlatent_idcs\u001b[49m\u001b[43m)\u001b[49m\u001b[38;5;241;43m.\u001b[39;49m\u001b[43mreshape\u001b[49m\u001b[43m(\u001b[49m\u001b[43mbatch_size\u001b[49m\u001b[43m,\u001b[49m\u001b[38;5;28;43mself\u001b[39;49m\u001b[38;5;241;43m.\u001b[39;49m\u001b[43mtrgt_param_shape\u001b[49m\u001b[43m[\u001b[49m\u001b[38;5;241;43m0\u001b[39;49m\u001b[43m]\u001b[49m\u001b[43m,\u001b[49m\u001b[43m \u001b[49m\u001b[38;5;241;43m.\u001b[39;49m\u001b[38;5;241;43m.\u001b[39;49m\u001b[38;5;241;43m.\u001b[39;49m\u001b[43m,\u001b[49m\u001b[38;5;28;43mself\u001b[39;49m\u001b[38;5;241;43m.\u001b[39;49m\u001b[43mtrgt_param_shape\u001b[49m\u001b[43m[\u001b[49m\u001b[38;5;241;43m-\u001b[39;49m\u001b[38;5;241;43m1\u001b[39;49m\u001b[43m]\u001b[49m\u001b[43m \u001b[49m\u001b[43m)\u001b[49m\n\u001b[1;32m     40\u001b[0m \u001b[38;5;66;03m# Build a parameter dictionary where self.param_name key holds param as value.\u001b[39;00m\n\u001b[1;32m     41\u001b[0m param_dict \u001b[38;5;241m=\u001b[39m {\n\u001b[1;32m     42\u001b[0m                 \u001b[38;5;28mself\u001b[39m\u001b[38;5;241m.\u001b[39mparam_name:params\n\u001b[1;32m     43\u001b[0m             }\n",
      "\u001b[0;31mTypeError\u001b[0m: reshape(): argument 'shape' must be tuple of ints, but found element of type ellipsis at pos 3"
     ]
    }
   ],
   "source": [
    "test_idcs = torch.randint(0, 100, size=(100, 1))\n",
    "_ = lfg_ad({\"idx\":torch.tensor([0])})"
   ]
  },
  {
   "cell_type": "code",
   "execution_count": 109,
   "metadata": {
    "id": "4i0RWlhKgOnJ"
   },
   "outputs": [],
   "source": [
    "del lfg_ad\n",
    "del lfg"
   ]
  },
  {
   "cell_type": "markdown",
   "metadata": {
    "id": "_HaGZ7My7u2M"
   },
   "source": [
    "## Part 2.5: Turning our latent voxel-grid radiance field into an auto-decoder\n",
    "\n",
    "Equipped with this handy tool, we can now easily build an auto-decoder for our latent radiance fields.\n",
    "\n",
    "First, let's instantiate our dataset and determine how many cars we want to train on. Let's say, 1,000:\n",
    "\n",
    "**Note: For this to work, we have to run a reasonable batch size on the order of ~32. Thus, we will reduce the image resolution to save memory - a resolution of 32 really isn't much, but of course, this works with higher resolutions on larger GPUs :)**"
   ]
  },
  {
   "cell_type": "code",
   "execution_count": 102,
   "metadata": {
    "id": "B9FWYagmw4PR"
   },
   "outputs": [],
   "source": [
    "# Hint: While you are debugging, set the number of scenes to \"5\".\n",
    "# While you are debugging, set the batch size to \"2\".\n",
    "img_sl = 32\n",
    "num_scenes = 100 # To make this faster for you, we'll only train on 100 cars. This is of course not really enough to learn a good prior, but it'll be much, much faster to train...\n",
    "batch_size = 32\n",
    "\n",
    "def worker_init_fn(worker_id):\n",
    "    np.random.seed(np.random.get_state()[1][0] + worker_id)\n",
    "\n",
    "dataset = SRNsCars(max_num_instances=num_scenes, img_sidelength=img_sl)\n",
    "data_loader = torch.utils.data.DataLoader(dataset, batch_size=batch_size,\n",
    "                                          worker_init_fn=worker_init_fn)"
   ]
  },
  {
   "cell_type": "markdown",
   "metadata": {
    "id": "z3wbs3cQw2OF"
   },
   "source": [
    "Let's instantiate the model for a *single* scene and print its parameters:"
   ]
  },
  {
   "cell_type": "code",
   "execution_count": 103,
   "metadata": {
    "id": "1OYm8uJxto09"
   },
   "outputs": [
    {
     "name": "stdout",
     "output_type": "stream",
     "text": [
      "3d\n",
      "rf.scene_rep.grid.latent_grid: (1, 128, 1, 1, 1)\n",
      "rf.scene_rep.grid.decoder.in_conv.0.weight: (128, 128, 3, 3, 3)\n",
      "rf.scene_rep.grid.decoder.in_conv.0.bias: (128,)\n",
      "rf.scene_rep.grid.decoder.hidden_conv.1.weight: (131, 128, 3, 3, 3)\n",
      "rf.scene_rep.grid.decoder.hidden_conv.1.bias: (128,)\n",
      "rf.scene_rep.grid.decoder.hidden_conv.4.weight: (131, 128, 3, 3, 3)\n",
      "rf.scene_rep.grid.decoder.hidden_conv.4.bias: (128,)\n",
      "rf.scene_rep.grid.decoder.hidden_conv.7.weight: (131, 128, 3, 3, 3)\n",
      "rf.scene_rep.grid.decoder.hidden_conv.7.bias: (128,)\n",
      "rf.scene_rep.grid.decoder.hidden_conv.10.weight: (131, 128, 3, 3, 3)\n",
      "rf.scene_rep.grid.decoder.hidden_conv.10.bias: (128,)\n",
      "rf.scene_rep.grid.decoder.hidden_conv.13.weight: (131, 128, 3, 3, 3)\n",
      "rf.scene_rep.grid.decoder.hidden_conv.13.bias: (128,)\n",
      "rf.scene_rep.grid.decoder.out_conv.weight: (128, 128, 3, 3, 3)\n",
      "rf.scene_rep.grid.decoder.out_conv.bias: (128,)\n",
      "rf.scene_rep.mlp.0.weight: (128, 128)\n",
      "rf.scene_rep.mlp.0.bias: (128,)\n",
      "rf.scene_rep.mlp.2.weight: (128, 128)\n",
      "rf.scene_rep.mlp.2.bias: (128,)\n",
      "rf.sigma.1.weight: (1, 128)\n",
      "rf.sigma.1.bias: (1,)\n",
      "rf.radiance.1.weight: (3, 128)\n",
      "rf.radiance.1.bias: (3,)\n"
     ]
    }
   ],
   "source": [
    "srn_rf = RadFieldAndRenderer()\n",
    "print_params(srn_rf)"
   ]
  },
  {
   "cell_type": "markdown",
   "metadata": {
    "id": "E8qJSSLatvCX"
   },
   "source": [
    "Let's use our AutoDecoderWrapper to turn this into an auto-decoder! Remember to pass in the `num_scenes` parameter.\n",
    "\n",
    "Below, fill in the blanks to turn this module into an auto-decoder:"
   ]
  },
  {
   "cell_type": "code",
   "execution_count": 104,
   "metadata": {
    "id": "bSRUFZqrDuSx"
   },
   "outputs": [
    {
     "name": "stdout",
     "output_type": "stream",
     "text": [
      "latents.weight: (100, 128)\n",
      "submodule.rf.scene_rep.grid.latent_grid: (1, 128, 1, 1, 1)\n",
      "submodule.rf.scene_rep.grid.decoder.in_conv.0.weight: (128, 128, 3, 3, 3)\n",
      "submodule.rf.scene_rep.grid.decoder.in_conv.0.bias: (128,)\n",
      "submodule.rf.scene_rep.grid.decoder.hidden_conv.1.weight: (131, 128, 3, 3, 3)\n",
      "submodule.rf.scene_rep.grid.decoder.hidden_conv.1.bias: (128,)\n",
      "submodule.rf.scene_rep.grid.decoder.hidden_conv.4.weight: (131, 128, 3, 3, 3)\n",
      "submodule.rf.scene_rep.grid.decoder.hidden_conv.4.bias: (128,)\n",
      "submodule.rf.scene_rep.grid.decoder.hidden_conv.7.weight: (131, 128, 3, 3, 3)\n",
      "submodule.rf.scene_rep.grid.decoder.hidden_conv.7.bias: (128,)\n",
      "submodule.rf.scene_rep.grid.decoder.hidden_conv.10.weight: (131, 128, 3, 3, 3)\n",
      "submodule.rf.scene_rep.grid.decoder.hidden_conv.10.bias: (128,)\n",
      "submodule.rf.scene_rep.grid.decoder.hidden_conv.13.weight: (131, 128, 3, 3, 3)\n",
      "submodule.rf.scene_rep.grid.decoder.hidden_conv.13.bias: (128,)\n",
      "submodule.rf.scene_rep.grid.decoder.out_conv.weight: (128, 128, 3, 3, 3)\n",
      "submodule.rf.scene_rep.grid.decoder.out_conv.bias: (128,)\n",
      "submodule.rf.scene_rep.mlp.0.weight: (128, 128)\n",
      "submodule.rf.scene_rep.mlp.0.bias: (128,)\n",
      "submodule.rf.scene_rep.mlp.2.weight: (128, 128)\n",
      "submodule.rf.scene_rep.mlp.2.bias: (128,)\n",
      "submodule.rf.sigma.1.weight: (1, 128)\n",
      "submodule.rf.sigma.1.bias: (1,)\n",
      "submodule.rf.radiance.1.weight: (3, 128)\n",
      "submodule.rf.radiance.1.bias: (3,)\n"
     ]
    },
    {
     "data": {
      "text/plain": [
       "100"
      ]
     },
     "execution_count": 104,
     "metadata": {},
     "output_type": "execute_result"
    }
   ],
   "source": [
    "# TODO\n",
    "# Define srns_ad as AutoDecoderWrapper with num_latents equal to num_scenes,\n",
    "# submodule as srn_rf, and param_name as rf.scene_rep.grid.latent_grid)\n",
    "\n",
    "srns_ad = AutoDecoderWrapper(num_latents=num_scenes,submodule= srn_rf, param_name=\"rf.scene_rep.grid.latent_grid\")\n",
    "\n",
    "print_params(srns_ad)\n",
    "\n",
    "num_scenes"
   ]
  },
  {
   "cell_type": "markdown",
   "metadata": {
    "id": "tpX-kQ1atyZ_"
   },
   "source": [
    "Let's instantiate our dataset and do a forward pass as a sanity check!\n",
    "\n",
    "**Note that the previous and this cell are both executed on CPU - that's because it's often much easier to debug certain problems on CPU than on GPU.**"
   ]
  },
  {
   "cell_type": "code",
   "execution_count": 105,
   "metadata": {
    "id": "z-noTEn5DVGb"
   },
   "outputs": [
    {
     "name": "stdout",
     "output_type": "stream",
     "text": [
      "cam2world torch.Size([32, 4, 4])\n",
      "intrinsics torch.Size([32, 3, 3])\n",
      "x_pix torch.Size([32, 1024, 2])\n",
      "idx torch.Size([32, 1])\n"
     ]
    },
    {
     "ename": "RuntimeError",
     "evalue": "Given groups=1, weight of size [128, 128, 3, 3, 3], expected input[1, 32, 128, 1, 1] to have 128 channels, but got 32 channels instead",
     "output_type": "error",
     "traceback": [
      "\u001b[0;31m---------------------------------------------------------------------------\u001b[0m",
      "\u001b[0;31mRuntimeError\u001b[0m                              Traceback (most recent call last)",
      "Cell \u001b[0;32mIn[105], line 7\u001b[0m\n\u001b[1;32m      4\u001b[0m \u001b[38;5;28;01mfor\u001b[39;00m key, val \u001b[38;5;129;01min\u001b[39;00m mi\u001b[38;5;241m.\u001b[39mitems():\n\u001b[1;32m      5\u001b[0m     \u001b[38;5;28mprint\u001b[39m(key, val\u001b[38;5;241m.\u001b[39mshape)\n\u001b[0;32m----> 7\u001b[0m test_out \u001b[38;5;241m=\u001b[39m \u001b[43msrns_ad\u001b[49m\u001b[43m(\u001b[49m\u001b[43mmi\u001b[49m\u001b[43m)\u001b[49m\n",
      "File \u001b[0;32m/media/ubuntu/Data/tools/anaconda3/envs/mlig/lib/python3.9/site-packages/torch/nn/modules/module.py:1130\u001b[0m, in \u001b[0;36mModule._call_impl\u001b[0;34m(self, *input, **kwargs)\u001b[0m\n\u001b[1;32m   1126\u001b[0m \u001b[38;5;66;03m# If we don't have any hooks, we want to skip the rest of the logic in\u001b[39;00m\n\u001b[1;32m   1127\u001b[0m \u001b[38;5;66;03m# this function, and just call forward.\u001b[39;00m\n\u001b[1;32m   1128\u001b[0m \u001b[38;5;28;01mif\u001b[39;00m \u001b[38;5;129;01mnot\u001b[39;00m (\u001b[38;5;28mself\u001b[39m\u001b[38;5;241m.\u001b[39m_backward_hooks \u001b[38;5;129;01mor\u001b[39;00m \u001b[38;5;28mself\u001b[39m\u001b[38;5;241m.\u001b[39m_forward_hooks \u001b[38;5;129;01mor\u001b[39;00m \u001b[38;5;28mself\u001b[39m\u001b[38;5;241m.\u001b[39m_forward_pre_hooks \u001b[38;5;129;01mor\u001b[39;00m _global_backward_hooks\n\u001b[1;32m   1129\u001b[0m         \u001b[38;5;129;01mor\u001b[39;00m _global_forward_hooks \u001b[38;5;129;01mor\u001b[39;00m _global_forward_pre_hooks):\n\u001b[0;32m-> 1130\u001b[0m     \u001b[38;5;28;01mreturn\u001b[39;00m \u001b[43mforward_call\u001b[49m\u001b[43m(\u001b[49m\u001b[38;5;241;43m*\u001b[39;49m\u001b[38;5;28;43minput\u001b[39;49m\u001b[43m,\u001b[49m\u001b[43m \u001b[49m\u001b[38;5;241;43m*\u001b[39;49m\u001b[38;5;241;43m*\u001b[39;49m\u001b[43mkwargs\u001b[49m\u001b[43m)\u001b[49m\n\u001b[1;32m   1131\u001b[0m \u001b[38;5;66;03m# Do not call functions when jit is used\u001b[39;00m\n\u001b[1;32m   1132\u001b[0m full_backward_hooks, non_full_backward_hooks \u001b[38;5;241m=\u001b[39m [], []\n",
      "Cell \u001b[0;32mIn[98], line 47\u001b[0m, in \u001b[0;36mAutoDecoderWrapper.forward\u001b[0;34m(self, inputs)\u001b[0m\n\u001b[1;32m     41\u001b[0m param_dict \u001b[38;5;241m=\u001b[39m {\n\u001b[1;32m     42\u001b[0m                 \u001b[38;5;28mself\u001b[39m\u001b[38;5;241m.\u001b[39mparam_name:params\n\u001b[1;32m     43\u001b[0m             }\n\u001b[1;32m     45\u001b[0m \u001b[38;5;66;03m# call functional_call using the submodule which is the network, the\u001b[39;00m\n\u001b[1;32m     46\u001b[0m \u001b[38;5;66;03m# param_dict, and the inputs as arguments,\u001b[39;00m\n\u001b[0;32m---> 47\u001b[0m output \u001b[38;5;241m=\u001b[39m \u001b[43mfunctional_call\u001b[49m\u001b[43m(\u001b[49m\u001b[38;5;28;43mself\u001b[39;49m\u001b[38;5;241;43m.\u001b[39;49m\u001b[43msubmodule\u001b[49m\u001b[43m,\u001b[49m\u001b[43m \u001b[49m\u001b[43mparam_dict\u001b[49m\u001b[43m,\u001b[49m\u001b[43m \u001b[49m\u001b[43minputs\u001b[49m\u001b[43m)\u001b[49m\n\u001b[1;32m     49\u001b[0m \u001b[38;5;66;03m# TODO\u001b[39;00m\n\u001b[1;32m     50\u001b[0m \u001b[38;5;66;03m#######\u001b[39;00m\n\u001b[1;32m     51\u001b[0m \n\u001b[1;32m     52\u001b[0m \u001b[38;5;66;03m# return the output of the functional call and params\u001b[39;00m\n\u001b[1;32m     53\u001b[0m \u001b[38;5;28;01mreturn\u001b[39;00m output, params\n",
      "File \u001b[0;32m/media/ubuntu/Data/tools/anaconda3/envs/mlig/lib/python3.9/site-packages/torch/nn/utils/stateless.py:141\u001b[0m, in \u001b[0;36mfunctional_call\u001b[0;34m(module, parameters_and_buffers, args, kwargs)\u001b[0m\n\u001b[1;32m    139\u001b[0m         out \u001b[38;5;241m=\u001b[39m module(\u001b[38;5;241m*\u001b[39margs, \u001b[38;5;241m*\u001b[39m\u001b[38;5;241m*\u001b[39mkwargs)\n\u001b[1;32m    140\u001b[0m     \u001b[38;5;28;01melse\u001b[39;00m:\n\u001b[0;32m--> 141\u001b[0m         out \u001b[38;5;241m=\u001b[39m \u001b[43mmodule\u001b[49m\u001b[43m(\u001b[49m\u001b[43margs\u001b[49m\u001b[43m,\u001b[49m\u001b[43m \u001b[49m\u001b[38;5;241;43m*\u001b[39;49m\u001b[38;5;241;43m*\u001b[39;49m\u001b[43mkwargs\u001b[49m\u001b[43m)\u001b[49m\n\u001b[1;32m    142\u001b[0m \u001b[38;5;28;01mreturn\u001b[39;00m out\n",
      "File \u001b[0;32m/media/ubuntu/Data/tools/anaconda3/envs/mlig/lib/python3.9/site-packages/torch/nn/modules/module.py:1130\u001b[0m, in \u001b[0;36mModule._call_impl\u001b[0;34m(self, *input, **kwargs)\u001b[0m\n\u001b[1;32m   1126\u001b[0m \u001b[38;5;66;03m# If we don't have any hooks, we want to skip the rest of the logic in\u001b[39;00m\n\u001b[1;32m   1127\u001b[0m \u001b[38;5;66;03m# this function, and just call forward.\u001b[39;00m\n\u001b[1;32m   1128\u001b[0m \u001b[38;5;28;01mif\u001b[39;00m \u001b[38;5;129;01mnot\u001b[39;00m (\u001b[38;5;28mself\u001b[39m\u001b[38;5;241m.\u001b[39m_backward_hooks \u001b[38;5;129;01mor\u001b[39;00m \u001b[38;5;28mself\u001b[39m\u001b[38;5;241m.\u001b[39m_forward_hooks \u001b[38;5;129;01mor\u001b[39;00m \u001b[38;5;28mself\u001b[39m\u001b[38;5;241m.\u001b[39m_forward_pre_hooks \u001b[38;5;129;01mor\u001b[39;00m _global_backward_hooks\n\u001b[1;32m   1129\u001b[0m         \u001b[38;5;129;01mor\u001b[39;00m _global_forward_hooks \u001b[38;5;129;01mor\u001b[39;00m _global_forward_pre_hooks):\n\u001b[0;32m-> 1130\u001b[0m     \u001b[38;5;28;01mreturn\u001b[39;00m \u001b[43mforward_call\u001b[49m\u001b[43m(\u001b[49m\u001b[38;5;241;43m*\u001b[39;49m\u001b[38;5;28;43minput\u001b[39;49m\u001b[43m,\u001b[49m\u001b[43m \u001b[49m\u001b[38;5;241;43m*\u001b[39;49m\u001b[38;5;241;43m*\u001b[39;49m\u001b[43mkwargs\u001b[49m\u001b[43m)\u001b[49m\n\u001b[1;32m   1131\u001b[0m \u001b[38;5;66;03m# Do not call functions when jit is used\u001b[39;00m\n\u001b[1;32m   1132\u001b[0m full_backward_hooks, non_full_backward_hooks \u001b[38;5;241m=\u001b[39m [], []\n",
      "Cell \u001b[0;32mIn[87], line 13\u001b[0m, in \u001b[0;36mRadFieldAndRenderer.forward\u001b[0;34m(self, model_input)\u001b[0m\n\u001b[1;32m     10\u001b[0m intrinsics \u001b[38;5;241m=\u001b[39m model_input[\u001b[38;5;124m'\u001b[39m\u001b[38;5;124mintrinsics\u001b[39m\u001b[38;5;124m'\u001b[39m]\n\u001b[1;32m     11\u001b[0m c2w \u001b[38;5;241m=\u001b[39m model_input[\u001b[38;5;124m'\u001b[39m\u001b[38;5;124mcam2world\u001b[39m\u001b[38;5;124m'\u001b[39m]\n\u001b[0;32m---> 13\u001b[0m rgb, depth \u001b[38;5;241m=\u001b[39m \u001b[38;5;28;43mself\u001b[39;49m\u001b[38;5;241;43m.\u001b[39;49m\u001b[43mrenderer\u001b[49m\u001b[43m(\u001b[49m\n\u001b[1;32m     14\u001b[0m \u001b[43m                      \u001b[49m\u001b[43mc2w\u001b[49m\u001b[43m,\u001b[49m\n\u001b[1;32m     15\u001b[0m \u001b[43m                      \u001b[49m\u001b[43mintrinsics\u001b[49m\u001b[43m,\u001b[49m\n\u001b[1;32m     16\u001b[0m \u001b[43m                      \u001b[49m\u001b[43mxy_pix\u001b[49m\u001b[43m,\u001b[49m\n\u001b[1;32m     17\u001b[0m \u001b[43m                      \u001b[49m\u001b[38;5;28;43mself\u001b[39;49m\u001b[38;5;241;43m.\u001b[39;49m\u001b[43mrf\u001b[49m\n\u001b[1;32m     18\u001b[0m \u001b[43m                      \u001b[49m\u001b[43m)\u001b[49m\n\u001b[1;32m     19\u001b[0m \u001b[38;5;28;01mreturn\u001b[39;00m rgb, depth\n",
      "File \u001b[0;32m/media/ubuntu/Data/tools/anaconda3/envs/mlig/lib/python3.9/site-packages/torch/nn/modules/module.py:1130\u001b[0m, in \u001b[0;36mModule._call_impl\u001b[0;34m(self, *input, **kwargs)\u001b[0m\n\u001b[1;32m   1126\u001b[0m \u001b[38;5;66;03m# If we don't have any hooks, we want to skip the rest of the logic in\u001b[39;00m\n\u001b[1;32m   1127\u001b[0m \u001b[38;5;66;03m# this function, and just call forward.\u001b[39;00m\n\u001b[1;32m   1128\u001b[0m \u001b[38;5;28;01mif\u001b[39;00m \u001b[38;5;129;01mnot\u001b[39;00m (\u001b[38;5;28mself\u001b[39m\u001b[38;5;241m.\u001b[39m_backward_hooks \u001b[38;5;129;01mor\u001b[39;00m \u001b[38;5;28mself\u001b[39m\u001b[38;5;241m.\u001b[39m_forward_hooks \u001b[38;5;129;01mor\u001b[39;00m \u001b[38;5;28mself\u001b[39m\u001b[38;5;241m.\u001b[39m_forward_pre_hooks \u001b[38;5;129;01mor\u001b[39;00m _global_backward_hooks\n\u001b[1;32m   1129\u001b[0m         \u001b[38;5;129;01mor\u001b[39;00m _global_forward_hooks \u001b[38;5;129;01mor\u001b[39;00m _global_forward_pre_hooks):\n\u001b[0;32m-> 1130\u001b[0m     \u001b[38;5;28;01mreturn\u001b[39;00m \u001b[43mforward_call\u001b[49m\u001b[43m(\u001b[49m\u001b[38;5;241;43m*\u001b[39;49m\u001b[38;5;28;43minput\u001b[39;49m\u001b[43m,\u001b[49m\u001b[43m \u001b[49m\u001b[38;5;241;43m*\u001b[39;49m\u001b[38;5;241;43m*\u001b[39;49m\u001b[43mkwargs\u001b[49m\u001b[43m)\u001b[49m\n\u001b[1;32m   1131\u001b[0m \u001b[38;5;66;03m# Do not call functions when jit is used\u001b[39;00m\n\u001b[1;32m   1132\u001b[0m full_backward_hooks, non_full_backward_hooks \u001b[38;5;241m=\u001b[39m [], []\n",
      "Cell \u001b[0;32mIn[86], line 97\u001b[0m, in \u001b[0;36mVolumeRenderer.forward\u001b[0;34m(self, cam2world, intrinsics, x_pix, radiance_field)\u001b[0m\n\u001b[1;32m     94\u001b[0m pts \u001b[38;5;241m=\u001b[39m pts\u001b[38;5;241m.\u001b[39mreshape(batch_size, \u001b[38;5;241m-\u001b[39m\u001b[38;5;241m1\u001b[39m, \u001b[38;5;241m3\u001b[39m)\n\u001b[1;32m     96\u001b[0m \u001b[38;5;66;03m# Sample the radiance field with the points along the rays.\u001b[39;00m\n\u001b[0;32m---> 97\u001b[0m sigma, rad \u001b[38;5;241m=\u001b[39m \u001b[43mradiance_field\u001b[49m\u001b[43m(\u001b[49m\u001b[43mpts\u001b[49m\u001b[43m)\u001b[49m\n\u001b[1;32m     99\u001b[0m \u001b[38;5;66;03m# Reshape sigma and rad back to (batch_size, num_rays, self.n_samples, -1)\u001b[39;00m\n\u001b[1;32m    100\u001b[0m sigma \u001b[38;5;241m=\u001b[39m sigma\u001b[38;5;241m.\u001b[39mview(batch_size, num_rays, \u001b[38;5;28mself\u001b[39m\u001b[38;5;241m.\u001b[39mn_samples, \u001b[38;5;241m1\u001b[39m)\n",
      "File \u001b[0;32m/media/ubuntu/Data/tools/anaconda3/envs/mlig/lib/python3.9/site-packages/torch/nn/modules/module.py:1130\u001b[0m, in \u001b[0;36mModule._call_impl\u001b[0;34m(self, *input, **kwargs)\u001b[0m\n\u001b[1;32m   1126\u001b[0m \u001b[38;5;66;03m# If we don't have any hooks, we want to skip the rest of the logic in\u001b[39;00m\n\u001b[1;32m   1127\u001b[0m \u001b[38;5;66;03m# this function, and just call forward.\u001b[39;00m\n\u001b[1;32m   1128\u001b[0m \u001b[38;5;28;01mif\u001b[39;00m \u001b[38;5;129;01mnot\u001b[39;00m (\u001b[38;5;28mself\u001b[39m\u001b[38;5;241m.\u001b[39m_backward_hooks \u001b[38;5;129;01mor\u001b[39;00m \u001b[38;5;28mself\u001b[39m\u001b[38;5;241m.\u001b[39m_forward_hooks \u001b[38;5;129;01mor\u001b[39;00m \u001b[38;5;28mself\u001b[39m\u001b[38;5;241m.\u001b[39m_forward_pre_hooks \u001b[38;5;129;01mor\u001b[39;00m _global_backward_hooks\n\u001b[1;32m   1129\u001b[0m         \u001b[38;5;129;01mor\u001b[39;00m _global_forward_hooks \u001b[38;5;129;01mor\u001b[39;00m _global_forward_pre_hooks):\n\u001b[0;32m-> 1130\u001b[0m     \u001b[38;5;28;01mreturn\u001b[39;00m \u001b[43mforward_call\u001b[49m\u001b[43m(\u001b[49m\u001b[38;5;241;43m*\u001b[39;49m\u001b[38;5;28;43minput\u001b[39;49m\u001b[43m,\u001b[49m\u001b[43m \u001b[49m\u001b[38;5;241;43m*\u001b[39;49m\u001b[38;5;241;43m*\u001b[39;49m\u001b[43mkwargs\u001b[49m\u001b[43m)\u001b[49m\n\u001b[1;32m   1131\u001b[0m \u001b[38;5;66;03m# Do not call functions when jit is used\u001b[39;00m\n\u001b[1;32m   1132\u001b[0m full_backward_hooks, non_full_backward_hooks \u001b[38;5;241m=\u001b[39m [], []\n",
      "Cell \u001b[0;32mIn[85], line 115\u001b[0m, in \u001b[0;36mLatentRadField.forward\u001b[0;34m(self, xyz)\u001b[0m\n\u001b[1;32m    109\u001b[0m \u001b[38;5;250m\u001b[39m\u001b[38;5;124;03m'''\u001b[39;00m\n\u001b[1;32m    110\u001b[0m \u001b[38;5;124;03mQueries the representation for the density and color values\u001b[39;00m\n\u001b[1;32m    111\u001b[0m \u001b[38;5;124;03m'''\u001b[39;00m\n\u001b[1;32m    112\u001b[0m \u001b[38;5;66;03m###\u001b[39;00m\n\u001b[1;32m    113\u001b[0m \u001b[38;5;66;03m# TODO\u001b[39;00m\n\u001b[1;32m    114\u001b[0m \u001b[38;5;66;03m# Do a forward pass through the scene representation.\u001b[39;00m\n\u001b[0;32m--> 115\u001b[0m features \u001b[38;5;241m=\u001b[39m\u001b[38;5;28;43mself\u001b[39;49m\u001b[38;5;241;43m.\u001b[39;49m\u001b[43mscene_rep\u001b[49m\u001b[43m(\u001b[49m\u001b[43mxyz\u001b[49m\u001b[43m)\u001b[49m\n\u001b[1;32m    117\u001b[0m \u001b[38;5;66;03m# Do a forward pass through both the self.sigma and self.color MLPs\u001b[39;00m\n\u001b[1;32m    118\u001b[0m \u001b[38;5;66;03m# to yield sigma and color.\u001b[39;00m\n\u001b[1;32m    119\u001b[0m sigma \u001b[38;5;241m=\u001b[39m \u001b[38;5;28mself\u001b[39m\u001b[38;5;241m.\u001b[39msigma(features)\n",
      "File \u001b[0;32m/media/ubuntu/Data/tools/anaconda3/envs/mlig/lib/python3.9/site-packages/torch/nn/modules/module.py:1130\u001b[0m, in \u001b[0;36mModule._call_impl\u001b[0;34m(self, *input, **kwargs)\u001b[0m\n\u001b[1;32m   1126\u001b[0m \u001b[38;5;66;03m# If we don't have any hooks, we want to skip the rest of the logic in\u001b[39;00m\n\u001b[1;32m   1127\u001b[0m \u001b[38;5;66;03m# this function, and just call forward.\u001b[39;00m\n\u001b[1;32m   1128\u001b[0m \u001b[38;5;28;01mif\u001b[39;00m \u001b[38;5;129;01mnot\u001b[39;00m (\u001b[38;5;28mself\u001b[39m\u001b[38;5;241m.\u001b[39m_backward_hooks \u001b[38;5;129;01mor\u001b[39;00m \u001b[38;5;28mself\u001b[39m\u001b[38;5;241m.\u001b[39m_forward_hooks \u001b[38;5;129;01mor\u001b[39;00m \u001b[38;5;28mself\u001b[39m\u001b[38;5;241m.\u001b[39m_forward_pre_hooks \u001b[38;5;129;01mor\u001b[39;00m _global_backward_hooks\n\u001b[1;32m   1129\u001b[0m         \u001b[38;5;129;01mor\u001b[39;00m _global_forward_hooks \u001b[38;5;129;01mor\u001b[39;00m _global_forward_pre_hooks):\n\u001b[0;32m-> 1130\u001b[0m     \u001b[38;5;28;01mreturn\u001b[39;00m \u001b[43mforward_call\u001b[49m\u001b[43m(\u001b[49m\u001b[38;5;241;43m*\u001b[39;49m\u001b[38;5;28;43minput\u001b[39;49m\u001b[43m,\u001b[49m\u001b[43m \u001b[49m\u001b[38;5;241;43m*\u001b[39;49m\u001b[38;5;241;43m*\u001b[39;49m\u001b[43mkwargs\u001b[49m\u001b[43m)\u001b[49m\n\u001b[1;32m   1131\u001b[0m \u001b[38;5;66;03m# Do not call functions when jit is used\u001b[39;00m\n\u001b[1;32m   1132\u001b[0m full_backward_hooks, non_full_backward_hooks \u001b[38;5;241m=\u001b[39m [], []\n",
      "Cell \u001b[0;32mIn[85], line 37\u001b[0m, in \u001b[0;36mLatentHybridVoxelNeuralField.forward\u001b[0;34m(self, coordinate)\u001b[0m\n\u001b[1;32m     32\u001b[0m bs\u001b[38;5;241m=\u001b[39m coordinate\u001b[38;5;241m.\u001b[39mshape[\u001b[38;5;241m0\u001b[39m]\n\u001b[1;32m     34\u001b[0m \u001b[38;5;66;03m# Call self.grid to decode latent code into 3D grid.\u001b[39;00m\n\u001b[1;32m     35\u001b[0m \u001b[38;5;66;03m# Recall that you don't need to pass any input as the decoder is\u001b[39;00m\n\u001b[1;32m     36\u001b[0m \u001b[38;5;66;03m# evaluated on the latent which is a parameter in the LatentFeatureGrid.\u001b[39;00m\n\u001b[0;32m---> 37\u001b[0m grid \u001b[38;5;241m=\u001b[39m \u001b[38;5;28;43mself\u001b[39;49m\u001b[38;5;241;43m.\u001b[39;49m\u001b[43mgrid\u001b[49m\u001b[43m(\u001b[49m\u001b[43m)\u001b[49m\n\u001b[1;32m     39\u001b[0m \u001b[38;5;66;03m# print(\"Coordinate: \", coordinate.min(), coordinate.max())\u001b[39;00m\n\u001b[1;32m     40\u001b[0m \n\u001b[1;32m     41\u001b[0m \n\u001b[1;32m     42\u001b[0m \u001b[38;5;66;03m# Sample 3D grid at coordinate with grid_sample.\u001b[39;00m\n\u001b[1;32m     43\u001b[0m \u001b[38;5;66;03m# Remember to add dimensions to make it compatible with grid_sample\u001b[39;00m\n\u001b[1;32m     44\u001b[0m coord \u001b[38;5;241m=\u001b[39m coordinate[\u001b[38;5;28;01mNone\u001b[39;00m, \u001b[38;5;28;01mNone\u001b[39;00m,:,:]\n",
      "File \u001b[0;32m/media/ubuntu/Data/tools/anaconda3/envs/mlig/lib/python3.9/site-packages/torch/nn/modules/module.py:1130\u001b[0m, in \u001b[0;36mModule._call_impl\u001b[0;34m(self, *input, **kwargs)\u001b[0m\n\u001b[1;32m   1126\u001b[0m \u001b[38;5;66;03m# If we don't have any hooks, we want to skip the rest of the logic in\u001b[39;00m\n\u001b[1;32m   1127\u001b[0m \u001b[38;5;66;03m# this function, and just call forward.\u001b[39;00m\n\u001b[1;32m   1128\u001b[0m \u001b[38;5;28;01mif\u001b[39;00m \u001b[38;5;129;01mnot\u001b[39;00m (\u001b[38;5;28mself\u001b[39m\u001b[38;5;241m.\u001b[39m_backward_hooks \u001b[38;5;129;01mor\u001b[39;00m \u001b[38;5;28mself\u001b[39m\u001b[38;5;241m.\u001b[39m_forward_hooks \u001b[38;5;129;01mor\u001b[39;00m \u001b[38;5;28mself\u001b[39m\u001b[38;5;241m.\u001b[39m_forward_pre_hooks \u001b[38;5;129;01mor\u001b[39;00m _global_backward_hooks\n\u001b[1;32m   1129\u001b[0m         \u001b[38;5;129;01mor\u001b[39;00m _global_forward_hooks \u001b[38;5;129;01mor\u001b[39;00m _global_forward_pre_hooks):\n\u001b[0;32m-> 1130\u001b[0m     \u001b[38;5;28;01mreturn\u001b[39;00m \u001b[43mforward_call\u001b[49m\u001b[43m(\u001b[49m\u001b[38;5;241;43m*\u001b[39;49m\u001b[38;5;28;43minput\u001b[39;49m\u001b[43m,\u001b[49m\u001b[43m \u001b[49m\u001b[38;5;241;43m*\u001b[39;49m\u001b[38;5;241;43m*\u001b[39;49m\u001b[43mkwargs\u001b[49m\u001b[43m)\u001b[49m\n\u001b[1;32m   1131\u001b[0m \u001b[38;5;66;03m# Do not call functions when jit is used\u001b[39;00m\n\u001b[1;32m   1132\u001b[0m full_backward_hooks, non_full_backward_hooks \u001b[38;5;241m=\u001b[39m [], []\n",
      "Cell \u001b[0;32mIn[5], line 39\u001b[0m, in \u001b[0;36mLatentFeatureGrid.forward\u001b[0;34m(self, input)\u001b[0m\n\u001b[1;32m     34\u001b[0m \u001b[38;5;250m\u001b[39m\u001b[38;5;124;03m'''\u001b[39;00m\n\u001b[1;32m     35\u001b[0m \u001b[38;5;124;03mcoordinate: (batch_size, num_points, 2)\u001b[39;00m\n\u001b[1;32m     36\u001b[0m \u001b[38;5;124;03m'''\u001b[39;00m\n\u001b[1;32m     37\u001b[0m \u001b[38;5;66;03m# TODO\u001b[39;00m\n\u001b[1;32m     38\u001b[0m \u001b[38;5;66;03m# return the output of the decoder on input of self.latent_grid.\u001b[39;00m\n\u001b[0;32m---> 39\u001b[0m \u001b[38;5;28;01mreturn\u001b[39;00m \u001b[38;5;28;43mself\u001b[39;49m\u001b[38;5;241;43m.\u001b[39;49m\u001b[43mdecoder\u001b[49m\u001b[43m(\u001b[49m\u001b[38;5;28;43mself\u001b[39;49m\u001b[38;5;241;43m.\u001b[39;49m\u001b[43mlatent_grid\u001b[49m\u001b[43m)\u001b[49m\n",
      "File \u001b[0;32m/media/ubuntu/Data/tools/anaconda3/envs/mlig/lib/python3.9/site-packages/torch/nn/modules/module.py:1130\u001b[0m, in \u001b[0;36mModule._call_impl\u001b[0;34m(self, *input, **kwargs)\u001b[0m\n\u001b[1;32m   1126\u001b[0m \u001b[38;5;66;03m# If we don't have any hooks, we want to skip the rest of the logic in\u001b[39;00m\n\u001b[1;32m   1127\u001b[0m \u001b[38;5;66;03m# this function, and just call forward.\u001b[39;00m\n\u001b[1;32m   1128\u001b[0m \u001b[38;5;28;01mif\u001b[39;00m \u001b[38;5;129;01mnot\u001b[39;00m (\u001b[38;5;28mself\u001b[39m\u001b[38;5;241m.\u001b[39m_backward_hooks \u001b[38;5;129;01mor\u001b[39;00m \u001b[38;5;28mself\u001b[39m\u001b[38;5;241m.\u001b[39m_forward_hooks \u001b[38;5;129;01mor\u001b[39;00m \u001b[38;5;28mself\u001b[39m\u001b[38;5;241m.\u001b[39m_forward_pre_hooks \u001b[38;5;129;01mor\u001b[39;00m _global_backward_hooks\n\u001b[1;32m   1129\u001b[0m         \u001b[38;5;129;01mor\u001b[39;00m _global_forward_hooks \u001b[38;5;129;01mor\u001b[39;00m _global_forward_pre_hooks):\n\u001b[0;32m-> 1130\u001b[0m     \u001b[38;5;28;01mreturn\u001b[39;00m \u001b[43mforward_call\u001b[49m\u001b[43m(\u001b[49m\u001b[38;5;241;43m*\u001b[39;49m\u001b[38;5;28;43minput\u001b[39;49m\u001b[43m,\u001b[49m\u001b[43m \u001b[49m\u001b[38;5;241;43m*\u001b[39;49m\u001b[38;5;241;43m*\u001b[39;49m\u001b[43mkwargs\u001b[49m\u001b[43m)\u001b[49m\n\u001b[1;32m   1131\u001b[0m \u001b[38;5;66;03m# Do not call functions when jit is used\u001b[39;00m\n\u001b[1;32m   1132\u001b[0m full_backward_hooks, non_full_backward_hooks \u001b[38;5;241m=\u001b[39m [], []\n",
      "Cell \u001b[0;32mIn[4], line 103\u001b[0m, in \u001b[0;36mConvDecoder.forward\u001b[0;34m(self, input)\u001b[0m\n\u001b[1;32m    100\u001b[0m \u001b[38;5;28;01mdef\u001b[39;00m \u001b[38;5;21mforward\u001b[39m(\u001b[38;5;28mself\u001b[39m, \u001b[38;5;28minput\u001b[39m):\n\u001b[1;32m    101\u001b[0m     \u001b[38;5;66;03m# TODO\u001b[39;00m\n\u001b[1;32m    102\u001b[0m     \u001b[38;5;66;03m# Call in_conv, hidden_conv, and out_conv modules on the input.\u001b[39;00m\n\u001b[0;32m--> 103\u001b[0m     x \u001b[38;5;241m=\u001b[39m \u001b[38;5;28;43mself\u001b[39;49m\u001b[38;5;241;43m.\u001b[39;49m\u001b[43min_conv\u001b[49m\u001b[43m(\u001b[49m\u001b[38;5;28;43minput\u001b[39;49m\u001b[43m)\u001b[49m\n\u001b[1;32m    104\u001b[0m     x \u001b[38;5;241m=\u001b[39m \u001b[38;5;28mself\u001b[39m\u001b[38;5;241m.\u001b[39mhidden_conv(x)\n\u001b[1;32m    105\u001b[0m     out \u001b[38;5;241m=\u001b[39m \u001b[38;5;28mself\u001b[39m\u001b[38;5;241m.\u001b[39mout_conv(x)\n",
      "File \u001b[0;32m/media/ubuntu/Data/tools/anaconda3/envs/mlig/lib/python3.9/site-packages/torch/nn/modules/module.py:1130\u001b[0m, in \u001b[0;36mModule._call_impl\u001b[0;34m(self, *input, **kwargs)\u001b[0m\n\u001b[1;32m   1126\u001b[0m \u001b[38;5;66;03m# If we don't have any hooks, we want to skip the rest of the logic in\u001b[39;00m\n\u001b[1;32m   1127\u001b[0m \u001b[38;5;66;03m# this function, and just call forward.\u001b[39;00m\n\u001b[1;32m   1128\u001b[0m \u001b[38;5;28;01mif\u001b[39;00m \u001b[38;5;129;01mnot\u001b[39;00m (\u001b[38;5;28mself\u001b[39m\u001b[38;5;241m.\u001b[39m_backward_hooks \u001b[38;5;129;01mor\u001b[39;00m \u001b[38;5;28mself\u001b[39m\u001b[38;5;241m.\u001b[39m_forward_hooks \u001b[38;5;129;01mor\u001b[39;00m \u001b[38;5;28mself\u001b[39m\u001b[38;5;241m.\u001b[39m_forward_pre_hooks \u001b[38;5;129;01mor\u001b[39;00m _global_backward_hooks\n\u001b[1;32m   1129\u001b[0m         \u001b[38;5;129;01mor\u001b[39;00m _global_forward_hooks \u001b[38;5;129;01mor\u001b[39;00m _global_forward_pre_hooks):\n\u001b[0;32m-> 1130\u001b[0m     \u001b[38;5;28;01mreturn\u001b[39;00m \u001b[43mforward_call\u001b[49m\u001b[43m(\u001b[49m\u001b[38;5;241;43m*\u001b[39;49m\u001b[38;5;28;43minput\u001b[39;49m\u001b[43m,\u001b[49m\u001b[43m \u001b[49m\u001b[38;5;241;43m*\u001b[39;49m\u001b[38;5;241;43m*\u001b[39;49m\u001b[43mkwargs\u001b[49m\u001b[43m)\u001b[49m\n\u001b[1;32m   1131\u001b[0m \u001b[38;5;66;03m# Do not call functions when jit is used\u001b[39;00m\n\u001b[1;32m   1132\u001b[0m full_backward_hooks, non_full_backward_hooks \u001b[38;5;241m=\u001b[39m [], []\n",
      "File \u001b[0;32m/media/ubuntu/Data/tools/anaconda3/envs/mlig/lib/python3.9/site-packages/torch/nn/modules/container.py:139\u001b[0m, in \u001b[0;36mSequential.forward\u001b[0;34m(self, input)\u001b[0m\n\u001b[1;32m    137\u001b[0m \u001b[38;5;28;01mdef\u001b[39;00m \u001b[38;5;21mforward\u001b[39m(\u001b[38;5;28mself\u001b[39m, \u001b[38;5;28minput\u001b[39m):\n\u001b[1;32m    138\u001b[0m     \u001b[38;5;28;01mfor\u001b[39;00m module \u001b[38;5;129;01min\u001b[39;00m \u001b[38;5;28mself\u001b[39m:\n\u001b[0;32m--> 139\u001b[0m         \u001b[38;5;28minput\u001b[39m \u001b[38;5;241m=\u001b[39m \u001b[43mmodule\u001b[49m\u001b[43m(\u001b[49m\u001b[38;5;28;43minput\u001b[39;49m\u001b[43m)\u001b[49m\n\u001b[1;32m    140\u001b[0m     \u001b[38;5;28;01mreturn\u001b[39;00m \u001b[38;5;28minput\u001b[39m\n",
      "File \u001b[0;32m/media/ubuntu/Data/tools/anaconda3/envs/mlig/lib/python3.9/site-packages/torch/nn/modules/module.py:1130\u001b[0m, in \u001b[0;36mModule._call_impl\u001b[0;34m(self, *input, **kwargs)\u001b[0m\n\u001b[1;32m   1126\u001b[0m \u001b[38;5;66;03m# If we don't have any hooks, we want to skip the rest of the logic in\u001b[39;00m\n\u001b[1;32m   1127\u001b[0m \u001b[38;5;66;03m# this function, and just call forward.\u001b[39;00m\n\u001b[1;32m   1128\u001b[0m \u001b[38;5;28;01mif\u001b[39;00m \u001b[38;5;129;01mnot\u001b[39;00m (\u001b[38;5;28mself\u001b[39m\u001b[38;5;241m.\u001b[39m_backward_hooks \u001b[38;5;129;01mor\u001b[39;00m \u001b[38;5;28mself\u001b[39m\u001b[38;5;241m.\u001b[39m_forward_hooks \u001b[38;5;129;01mor\u001b[39;00m \u001b[38;5;28mself\u001b[39m\u001b[38;5;241m.\u001b[39m_forward_pre_hooks \u001b[38;5;129;01mor\u001b[39;00m _global_backward_hooks\n\u001b[1;32m   1129\u001b[0m         \u001b[38;5;129;01mor\u001b[39;00m _global_forward_hooks \u001b[38;5;129;01mor\u001b[39;00m _global_forward_pre_hooks):\n\u001b[0;32m-> 1130\u001b[0m     \u001b[38;5;28;01mreturn\u001b[39;00m \u001b[43mforward_call\u001b[49m\u001b[43m(\u001b[49m\u001b[38;5;241;43m*\u001b[39;49m\u001b[38;5;28;43minput\u001b[39;49m\u001b[43m,\u001b[49m\u001b[43m \u001b[49m\u001b[38;5;241;43m*\u001b[39;49m\u001b[38;5;241;43m*\u001b[39;49m\u001b[43mkwargs\u001b[49m\u001b[43m)\u001b[49m\n\u001b[1;32m   1131\u001b[0m \u001b[38;5;66;03m# Do not call functions when jit is used\u001b[39;00m\n\u001b[1;32m   1132\u001b[0m full_backward_hooks, non_full_backward_hooks \u001b[38;5;241m=\u001b[39m [], []\n",
      "File \u001b[0;32m/media/ubuntu/Data/tools/anaconda3/envs/mlig/lib/python3.9/site-packages/torch/nn/modules/conv.py:607\u001b[0m, in \u001b[0;36mConv3d.forward\u001b[0;34m(self, input)\u001b[0m\n\u001b[1;32m    606\u001b[0m \u001b[38;5;28;01mdef\u001b[39;00m \u001b[38;5;21mforward\u001b[39m(\u001b[38;5;28mself\u001b[39m, \u001b[38;5;28minput\u001b[39m: Tensor) \u001b[38;5;241m-\u001b[39m\u001b[38;5;241m>\u001b[39m Tensor:\n\u001b[0;32m--> 607\u001b[0m     \u001b[38;5;28;01mreturn\u001b[39;00m \u001b[38;5;28;43mself\u001b[39;49m\u001b[38;5;241;43m.\u001b[39;49m\u001b[43m_conv_forward\u001b[49m\u001b[43m(\u001b[49m\u001b[38;5;28;43minput\u001b[39;49m\u001b[43m,\u001b[49m\u001b[43m \u001b[49m\u001b[38;5;28;43mself\u001b[39;49m\u001b[38;5;241;43m.\u001b[39;49m\u001b[43mweight\u001b[49m\u001b[43m,\u001b[49m\u001b[43m \u001b[49m\u001b[38;5;28;43mself\u001b[39;49m\u001b[38;5;241;43m.\u001b[39;49m\u001b[43mbias\u001b[49m\u001b[43m)\u001b[49m\n",
      "File \u001b[0;32m/media/ubuntu/Data/tools/anaconda3/envs/mlig/lib/python3.9/site-packages/torch/nn/modules/conv.py:602\u001b[0m, in \u001b[0;36mConv3d._conv_forward\u001b[0;34m(self, input, weight, bias)\u001b[0m\n\u001b[1;32m    590\u001b[0m \u001b[38;5;28;01mif\u001b[39;00m \u001b[38;5;28mself\u001b[39m\u001b[38;5;241m.\u001b[39mpadding_mode \u001b[38;5;241m!=\u001b[39m \u001b[38;5;124m\"\u001b[39m\u001b[38;5;124mzeros\u001b[39m\u001b[38;5;124m\"\u001b[39m:\n\u001b[1;32m    591\u001b[0m     \u001b[38;5;28;01mreturn\u001b[39;00m F\u001b[38;5;241m.\u001b[39mconv3d(\n\u001b[1;32m    592\u001b[0m         F\u001b[38;5;241m.\u001b[39mpad(\n\u001b[1;32m    593\u001b[0m             \u001b[38;5;28minput\u001b[39m, \u001b[38;5;28mself\u001b[39m\u001b[38;5;241m.\u001b[39m_reversed_padding_repeated_twice, mode\u001b[38;5;241m=\u001b[39m\u001b[38;5;28mself\u001b[39m\u001b[38;5;241m.\u001b[39mpadding_mode\n\u001b[0;32m   (...)\u001b[0m\n\u001b[1;32m    600\u001b[0m         \u001b[38;5;28mself\u001b[39m\u001b[38;5;241m.\u001b[39mgroups,\n\u001b[1;32m    601\u001b[0m     )\n\u001b[0;32m--> 602\u001b[0m \u001b[38;5;28;01mreturn\u001b[39;00m \u001b[43mF\u001b[49m\u001b[38;5;241;43m.\u001b[39;49m\u001b[43mconv3d\u001b[49m\u001b[43m(\u001b[49m\n\u001b[1;32m    603\u001b[0m \u001b[43m    \u001b[49m\u001b[38;5;28;43minput\u001b[39;49m\u001b[43m,\u001b[49m\u001b[43m \u001b[49m\u001b[43mweight\u001b[49m\u001b[43m,\u001b[49m\u001b[43m \u001b[49m\u001b[43mbias\u001b[49m\u001b[43m,\u001b[49m\u001b[43m \u001b[49m\u001b[38;5;28;43mself\u001b[39;49m\u001b[38;5;241;43m.\u001b[39;49m\u001b[43mstride\u001b[49m\u001b[43m,\u001b[49m\u001b[43m \u001b[49m\u001b[38;5;28;43mself\u001b[39;49m\u001b[38;5;241;43m.\u001b[39;49m\u001b[43mpadding\u001b[49m\u001b[43m,\u001b[49m\u001b[43m \u001b[49m\u001b[38;5;28;43mself\u001b[39;49m\u001b[38;5;241;43m.\u001b[39;49m\u001b[43mdilation\u001b[49m\u001b[43m,\u001b[49m\u001b[43m \u001b[49m\u001b[38;5;28;43mself\u001b[39;49m\u001b[38;5;241;43m.\u001b[39;49m\u001b[43mgroups\u001b[49m\n\u001b[1;32m    604\u001b[0m \u001b[43m\u001b[49m\u001b[43m)\u001b[49m\n",
      "\u001b[0;31mRuntimeError\u001b[0m: Given groups=1, weight of size [128, 128, 3, 3, 3], expected input[1, 32, 128, 1, 1] to have 128 channels, but got 32 channels instead"
     ]
    }
   ],
   "source": [
    "with torch.no_grad():\n",
    "    mi, gt = next(iter(data_loader))\n",
    "\n",
    "    for key, val in mi.items():\n",
    "        print(key, val.shape)\n",
    "\n",
    "    test_out = srns_ad(mi)"
   ]
  },
  {
   "cell_type": "markdown",
   "metadata": {
    "id": "EzWz_gQ2U-mi"
   },
   "source": [
    "No error --> looks good ;)\n",
    "\n",
    "We now need to adapt our auto-decoder loss from earlier to deal with the tuple output from our network:"
   ]
  },
  {
   "cell_type": "code",
   "execution_count": null,
   "metadata": {
    "id": "AZD7u99uXm8p"
   },
   "outputs": [],
   "source": [
    "def autodecoder_loss(mlp_out, gt, model):\n",
    "    (img, depth), latents = mlp_out # Have to unpack outputs of autodecoder wrapper\n",
    "\n",
    "    img_loss = ((img - gt)**2).mean()\n",
    "    latent_loss = (latents**2).mean()\n",
    "\n",
    "    param_loss = 0.\n",
    "    for name, param in model.named_parameters():\n",
    "        if 'latent' not in name:\n",
    "            param_loss += (param**2).mean()\n",
    "    # return img_loss\n",
    "    return param_loss*1e-4 + latent_loss*1e-4 + img_loss"
   ]
  },
  {
   "cell_type": "markdown",
   "metadata": {
    "id": "MYgu0fn7ZZuj"
   },
   "source": [
    "We similarly need to adapt our `plot_output_ground_truth` function:"
   ]
  },
  {
   "cell_type": "code",
   "execution_count": null,
   "metadata": {
    "id": "HS7832RzZfcs"
   },
   "outputs": [],
   "source": [
    "def plot_output_ground_truth(model_output, ground_truth, resolution):\n",
    "    (img_batch, depth_batch), latent = model_output\n",
    "\n",
    "    num_batch_items = 4\n",
    "    fig, axes = plt.subplots(num_batch_items, 3, figsize=(18, 6*num_batch_items), squeeze=False)\n",
    "\n",
    "    for i in range(num_batch_items):\n",
    "        img = img_batch[i]\n",
    "        depth = depth_batch[i]\n",
    "        gt = ground_truth[i]\n",
    "\n",
    "        axes[i, 0].imshow(img.cpu().view(*resolution).detach().numpy())\n",
    "        axes[i, 0].set_title(\"Trained MLP\")\n",
    "        axes[i, 1].imshow(gt.cpu().view(*resolution).detach().numpy())\n",
    "        axes[i, 1].set_title(\"Ground Truth\")\n",
    "\n",
    "        depth = depth.cpu().view(*resolution[:2]).detach().numpy()\n",
    "        axes[i, 2].imshow(depth, cmap='Greys')\n",
    "        axes[i, 2].set_title(\"Depth\")\n",
    "\n",
    "        for j in range(3):\n",
    "            axes[i, j].set_axis_off()\n",
    "\n",
    "    plt.show()"
   ]
  },
  {
   "cell_type": "markdown",
   "metadata": {
    "id": "wDNKz5uuDtu2"
   },
   "source": [
    "Let's fit!\n",
    "\n",
    "**Note: This will take quite a while to run, somewhere on the order of 15-20 minutes. You will not be graded based on how far this converges - we will judge whether your functions are correct or not based on unit-tests for each of the functions. This result here is just for you to see that it's working!**\n",
    "\n",
    "**Hint: If you get weird CUDA bugs, try your model out on CPU first! These are often indexing bugs that CUDA can offer limited insight on, but on CPU, the debugging messages will be much more meaningful**"
   ]
  },
  {
   "cell_type": "code",
   "execution_count": null,
   "metadata": {
    "id": "Y-uUB-u3gRbB"
   },
   "outputs": [],
   "source": [
    "srns_ad = srns_ad.cuda() # Copy the model to the GPU\n",
    "optim = torch.optim.Adam(lr=1e-4, params=srns_ad.parameters())\n",
    "\n",
    "fit(srns_ad,\n",
    "    iter(data_loader),\n",
    "    loss_fn=autodecoder_loss,\n",
    "    resolution=(img_sl, img_sl, 3),\n",
    "    plotting_function=plot_output_ground_truth,\n",
    "    total_steps=10_000,\n",
    "    optimizer=optim,\n",
    "    steps_til_summary=100\n",
    ")"
   ]
  },
  {
   "cell_type": "markdown",
   "metadata": {
    "id": "34JPwKtl3oGh"
   },
   "source": [
    "You should observe the effect we discussed earlier: The model will converge to a soapbar-style \"average car\" after \\~500 steps, and only after training for a while longer (\\~2000 steps) will it start to form the correct shapes & colors."
   ]
  },
  {
   "cell_type": "markdown",
   "metadata": {
    "id": "uP7W609XtLmX"
   },
   "source": []
  },
  {
   "cell_type": "markdown",
   "metadata": {
    "id": "VFIFXslfixeN"
   },
   "source": [
    "## Part 2.6 Reconstructing an SRN car from a single image.\n",
    "\n",
    "With this latent space in hand, you are now able to reconstruct an SRN car from a **single** image - much in the same way as we reconstructed an MNIST digit from only half the image!\n",
    "\n",
    "This was first demonstrated in the paper \"Scene Representation Networks: Continuous 3D-Structure-Aware Neural Scene Representations\" - with this course, you've basically caught up all the way (and much further) on what took Vincent 1.5 years :)\n",
    "\n",
    "As with the MNIST digit, let's pop a single image observation from our dataset and build a generator that only yields that one image:"
   ]
  },
  {
   "cell_type": "code",
   "execution_count": null,
   "metadata": {
    "id": "7nFVS_zxW_oQ"
   },
   "outputs": [],
   "source": [
    "img_sl = 64\n",
    "num_scenes = 1\n",
    "batch_size = 1\n",
    "\n",
    "dataset = SRNsCars(max_num_instances=num_scenes, img_sidelength=img_sl)\n",
    "data_loader = torch.utils.data.DataLoader(dataset, batch_size=batch_size)\n",
    "\n",
    "\n",
    "def test_generator():\n",
    "    sample = next(iter(data_loader))\n",
    "    while True:\n",
    "        yield sample\n",
    "\n",
    "test_dataset = test_generator()"
   ]
  },
  {
   "cell_type": "markdown",
   "metadata": {
    "id": "oL3t5IniYOEy"
   },
   "source": [
    "For the optimizer, we want to *only optimize the latent code - not the other parameters of the model*:"
   ]
  },
  {
   "cell_type": "code",
   "execution_count": null,
   "metadata": {
    "id": "fHO04fDxYWaa"
   },
   "outputs": [],
   "source": [
    "srn_rf.rf.scene_rep.grid.latent_grid.data.normal_()\n",
    "\n",
    "optim = torch.optim.Adam(lr=1e-3,\n",
    "                         params=[srn_rf.rf.scene_rep.grid.latent_grid])"
   ]
  },
  {
   "cell_type": "markdown",
   "metadata": {
    "id": "B4XRjZyOQJpf"
   },
   "source": [
    "We need to adapt our loss again, as this model does not return a latent:"
   ]
  },
  {
   "cell_type": "code",
   "execution_count": null,
   "metadata": {
    "id": "Ffxuq9l5QNXh"
   },
   "outputs": [],
   "source": [
    "def test_rec_loss(mlp_out, gt, model):\n",
    "    (img, depth) = mlp_out # Have to unpack outputs of autodecoder wrapper\n",
    "\n",
    "    img_loss = ((img - gt)**2).mean()\n",
    "    return img_loss\n",
    "\n",
    "def test_plotting(model_output, ground_truth, resolution):\n",
    "    (img_batch, depth_batch) = model_output\n",
    "\n",
    "    num_batch_items = 1\n",
    "    fig, axes = plt.subplots(num_batch_items, 3, figsize=(18, 6*num_batch_items), squeeze=False)\n",
    "\n",
    "    i = 0\n",
    "    img = img_batch[i]\n",
    "    depth = depth_batch[i]\n",
    "    gt = ground_truth[i]\n",
    "\n",
    "    axes[i, 0].imshow(img.cpu().view(*resolution).detach().numpy())\n",
    "    axes[i, 0].set_title(\"Trained MLP\")\n",
    "    axes[i, 1].imshow(gt.cpu().view(*resolution).detach().numpy())\n",
    "    axes[i, 1].set_title(\"Ground Truth\")\n",
    "\n",
    "    depth = depth.cpu().view(*resolution[:2]).detach().numpy()\n",
    "    axes[i, 2].imshow(depth, cmap='Greys')\n",
    "    axes[i, 2].set_title(\"Depth\")\n",
    "\n",
    "    for j in range(3):\n",
    "        axes[i, j].set_axis_off()\n",
    "\n",
    "    plt.show()"
   ]
  },
  {
   "cell_type": "markdown",
   "metadata": {
    "id": "FnrDbue1Yd4Y"
   },
   "source": [
    "We can now reconstruct via fitting:\n",
    "\n",
    "**NOTE: the quality of this reconstruction is going to be somewhat poor, because we have only trained on a dataset of 100 cars. We would expect this to be *a lot* better if we had trained on more - in fact, this setup is very, very similar to that of \"Scene Representation Networks\", and with a bit of tweaking should yield similar results. If you have time and a bigger GPU, go ahead and try it!**"
   ]
  },
  {
   "cell_type": "code",
   "execution_count": null,
   "metadata": {
    "id": "U2pFcshAYfy5"
   },
   "outputs": [],
   "source": [
    "fit(srn_rf,\n",
    "    iter(test_dataset),\n",
    "    loss_fn=test_rec_loss,\n",
    "    resolution=(img_sl, img_sl, 3),\n",
    "    plotting_function=test_plotting,\n",
    "    total_steps=5_000,\n",
    "    optimizer=optim,\n",
    "    steps_til_summary=100\n",
    ")"
   ]
  },
  {
   "cell_type": "markdown",
   "metadata": {
    "id": "hynr5QE5QsHN"
   },
   "source": [
    "# Rendering the car from multiple view points"
   ]
  },
  {
   "cell_type": "code",
   "execution_count": null,
   "metadata": {
    "id": "he7Jyyb-Qve6"
   },
   "outputs": [],
   "source": [
    "f = h5py.File('cars_train.hdf5', 'r')\n",
    "\n",
    "instances = sorted(list(f.keys()))\n",
    "idx = 0\n",
    "\n",
    "key = instances[idx]\n",
    "instance = f[key]\n",
    "c2ws_ds = instance['pose']\n",
    "c2w_keys = list(c2ws_ds.keys())\n",
    "intrinsics = parse_intrinsics( instance['intrinsics.txt'] ).to(device)\n",
    "intrinsics[:2, :3] /= 128.\n",
    "\n",
    "x_pix = get_opencv_pixel_coordinates(128, 128)\n",
    "x_pix = x_pix[32:-32, 32:-32]\n",
    "\n",
    "x_pix = resize(x_pix,\n",
    "               (64, 64),\n",
    "               anti_aliasing=False,\n",
    "               order=0)\n",
    "x_pix = torch.tensor(x_pix).reshape(1, -1, 2).to(device)\n",
    "\n",
    "poses = []\n",
    "for i in range(len(c2w_keys)):\n",
    "    c2w = parse_pose( c2ws_ds[c2w_keys[i]] )\n",
    "    poses.append(c2w)\n",
    "\n",
    "\n",
    "poses = torch.stack(poses).to(device)\n",
    "\n",
    "\n",
    "with torch.no_grad():\n",
    "    frames = []\n",
    "    for i in range(len(poses)):\n",
    "        model_in = {'cam2world': poses[i:i+1], 'intrinsics': intrinsics[None, ...], 'x_pix': x_pix}\n",
    "        rgb, depth = srn_rf(model_in)\n",
    "\n",
    "        rgb = rgb.reshape(64, 64, 3).cpu().numpy()\n",
    "        frames.append(torch.tensor(rgb))\n",
    "\n"
   ]
  },
  {
   "cell_type": "code",
   "execution_count": null,
   "metadata": {
    "id": "XmPdOfqeQ4ly"
   },
   "outputs": [],
   "source": [
    "# We show a grid with the car viewed from multiple viewpoints even though\n",
    "# we only observed a single image of a car.\n",
    "output = torchvision.utils.make_grid(torch.stack(frames).permute(0, -1, 1, 2), 10)\n",
    "\n",
    "plt.figure(figsize=(20, 20))\n",
    "plt.imshow(output.permute(1, 2, 0))"
   ]
  },
  {
   "cell_type": "markdown",
   "metadata": {
    "id": "kYhYKoGOVfda"
   },
   "source": [
    "# The End\n",
    "This concludes Assignment 3. In summary, you have learned:\n",
    "\n",
    "\n",
    "1.   A convolutional decoder\n",
    "2.   How to use a convolutional decoder to decode a latent into a 2D or 3D grid\n",
    "3.   How to *manually* convert a single-latent module into an auto-decoder by swapping out an nn.Parameter with an nn.Embedding and modifying the forward pass\n",
    "4.   How to train a 2D auto-decoder on images.\n",
    "5.   How to use the trained auto-decoder for prior-based reconstruction from an incomplete observation.\n",
    "6.   How to use a 3D convolutional decoder to build a hybrid discrete-continuous neural field based on a voxelgrid.\n",
    "7.   How to convert that into an Auto-Decoder by writing a wrapper function instead of manually editing.\n",
    "8.   How to train a latent space of **3D Scenes** solely via differentiable rendering.\n",
    "9.   How to use that latent space for **single-image 3D reconstruction**,thereby reproducing the key result from the paper \"Scene Representation Networks: Continuous 3D-Structure-Aware Neural Scene Representations\"."
   ]
  },
  {
   "cell_type": "markdown",
   "metadata": {
    "id": "wR2KuxuaVpFX"
   },
   "source": [
    "# Submission Instructions\n",
    "\n",
    "1.   Click \"Runtime -> Run all\" and make sure all cells run without an error (you can tell by whether the *final* cell was executed. You can then be confident that you have implemented everything you were supposed to implement, or at least deleted the \"raise NotImplementedError\".\n",
    "2.   Once you're certain, click \"File -> Download -> Download .ipynb\" and \"File -> Download -> Download .py\"\n",
    "3.   Log in to Canvas\n",
    "4.   Upload the `.py` and `.ipynb` file in a `.zip` archive with the filename being your Kerberos ID (e.g. `prafull.zip`)."
   ]
  },
  {
   "cell_type": "code",
   "execution_count": null,
   "metadata": {
    "id": "HYUwjpEpVpXf"
   },
   "outputs": [],
   "source": [
    "|"
   ]
  }
 ],
 "metadata": {
  "accelerator": "GPU",
  "colab": {
   "gpuType": "T4",
   "provenance": [],
   "toc_visible": true
  },
  "kernelspec": {
   "display_name": "Python 3 (ipykernel)",
   "language": "python",
   "name": "python3"
  },
  "language_info": {
   "codemirror_mode": {
    "name": "ipython",
    "version": 3
   },
   "file_extension": ".py",
   "mimetype": "text/x-python",
   "name": "python",
   "nbconvert_exporter": "python",
   "pygments_lexer": "ipython3",
   "version": "3.9.18"
  }
 },
 "nbformat": 4,
 "nbformat_minor": 4
}
